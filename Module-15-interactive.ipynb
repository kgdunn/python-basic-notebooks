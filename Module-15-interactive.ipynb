{
 "cells": [
  {
   "cell_type": "markdown",
   "metadata": {
    "toc": true
   },
   "source": [
    "<h1>Table of Contents<span class=\"tocSkip\"></span></h1>\n",
    "<div class=\"toc\"><ul class=\"toc-item\"><li><span><a href=\"#Keeping-Conda-up-to-date-and-installing-new-packages\" data-toc-modified-id=\"Keeping-Conda-up-to-date-and-installing-new-packages-1\"><span class=\"toc-item-num\">1&nbsp;&nbsp;</span>Keeping Conda up to date and installing new packages</a></span><ul class=\"toc-item\"><li><span><a href=\"#Installing-a-new-package-in-your-virtual-environment\" data-toc-modified-id=\"Installing-a-new-package-in-your-virtual-environment-1.1\"><span class=\"toc-item-num\">1.1&nbsp;&nbsp;</span>Installing a new package in your virtual environment</a></span></li><li><span><a href=\"#Updating-an-existing-package\" data-toc-modified-id=\"Updating-an-existing-package-1.2\"><span class=\"toc-item-num\">1.2&nbsp;&nbsp;</span>Updating an existing package</a></span></li></ul></li><li><span><a href=\"#Building-regression-models\" data-toc-modified-id=\"Building-regression-models-2\"><span class=\"toc-item-num\">2&nbsp;&nbsp;</span>Building regression models</a></span></li></ul></div>"
   ]
  },
  {
   "cell_type": "markdown",
   "metadata": {},
   "source": [
    "> All content here is under a Creative Commons Attribution [CC-BY 4.0](https://creativecommons.org/licenses/by/4.0/) and all source code is released under a [BSD-2 clause license](https://en.wikipedia.org/wiki/BSD_licenses).\n",
    ">\n",
    ">Please reuse, remix, revise, and [reshare this content](https://github.com/kgdunn/python-basic-notebooks) in any way, keeping this notice."
   ]
  },
  {
   "cell_type": "markdown",
   "metadata": {},
   "source": [
    "# Course overview\n",
    "\n",
    "This is the fifth module of several (11, 12, 13, 14, 15 and 16), which refocuses the course material in the [prior 10  modules](https://github.com/kgdunn/python-basic-notebooks) in a slightly different way. It places more emphasis on\n",
    "\n",
    "* dealing with data: importing, merging, filtering;\n",
    "* calculations from the data;\n",
    "* visualization of it.\n",
    "\n",
    "In short: ***how to extract value from your data***.\n"
   ]
  },
  {
   "cell_type": "markdown",
   "metadata": {},
   "source": [
    "# Module 15 Overview\n",
    "\n",
    "In this module we will cover\n",
    "\n",
    "* Fitting a linear regression model to the data\n",
    "* Visualization of the linear regression model\n",
    "* Accessing data from your data frame using `.loc` and `.iloc`\n",
    "* Summarizing your data using an aggregation function.\n",
    "\n",
    "**Requirements before starting**\n",
    "\n",
    "* Have your Python installation working as you had for modules 11 to 14, including the Pandas library installed. \n",
    "\n",
    "* An extra requirement: install the `scikit-learn` and `seaborn` libraries. See instructions below."
   ]
  },
  {
   "cell_type": "markdown",
   "metadata": {},
   "source": [
    "## Keeping Conda up to date and installing new packages\n",
    "\n",
    "\n",
    "Newer versions of packages are released frequently. You can update your packages (libraries), with this command::\n",
    "```bash\n",
    "\n",
    "    conda update -n base conda\n",
    "    conda update --all\n",
    "```\n",
    "\n",
    "### Installing a new package in your virtual environment\n",
    "\n",
    "You will come across people recommending different packages in Python for all sorts of interesting applications. For example, the library `seaborn` is often recommended for visualization. But you might not have it installed yet. \n",
    "\n",
    "This is how you can install the package called `seaborn` and `scikit-learn` packages in your virtual environment called ``myenv``:\n",
    "```bash\n",
    "    conda activate myenv    <--- change the last word in the command to the name of your actual environment\n",
    "    conda install seaborn scikit-learn\n",
    "```\n",
    "\n",
    "Or in one line:\n",
    "```bash\n",
    "    conda install -n myenv seaborn scikit-learn\n",
    "```\n",
    "\n",
    "\n",
    "### Updating an existing package\n",
    "\n",
    "Similar to the above, you can update a package to the latest version. Just change ``install`` to ``update`` instead.\n",
    "Or in one line:\n",
    "```bash\n",
    "    conda update -n myenv seaborn scikit-learn\n",
    "```"
   ]
  },
  {
   "cell_type": "markdown",
   "metadata": {},
   "source": [
    "## Building regression models\n",
    "\n",
    "In the [prior module](https://yint.org/pybasic14) you learned about setting the date and time when importing data, visualizing your data with box plots, histograms, line or time-series plots, and scatter plots. You applied these to your own data, and learned about the very powerful ``groupby`` function in Pandas.\n",
    "\n",
    "In this module we will take these skills a step further, but first, we will learn about fitting regression models to some data. \n",
    "\n",
    "Start by importing Pandas, but also the tools to build regression models, from the `scikit-learn` library, which is imported as `sklearn`. You can read more about scikit-learn at their website: https://scikit-learn.org/stable/"
   ]
  },
  {
   "cell_type": "code",
   "execution_count": 6,
   "metadata": {},
   "outputs": [],
   "source": [
    "import pandas as p\n",
    "from sklearn.linear_model import LinearRegression"
   ]
  },
  {
   "cell_type": "markdown",
   "metadata": {},
   "source": [
    "We will use a data set that is about the taste of cheddar cheese: https://openmv.net/info/cheddar-cheese\n",
    "\n",
    "Read the data set in and set the column called \"Case\" to be the index:\n",
    "```python\n",
    "cheese = pd.read_csv(\"https://openmv.net/file/cheddar-cheese.csv\").set_index(\"Case\")\n",
    "```\n",
    "\n",
    "In the [prior module](https://yint.org/pybasic14) you were asked to \n",
    "\n",
    "1. calculate the correlation matrix of values and display that. Were you able to do so? \n",
    "2. Could you also visualize a scatter plot matrix of these values with the \"kde\" on the diagonal, squares for the markers and an alpha value of 0.8 for the points?\n",
    "  \n",
    "*Hint*: look at the documentation for `scatter_matrix` to see how to do this. You can look at the documentation inside Jupyter in several ways:\n",
    "* ``help(scatter_matrix)``\n",
    "* ``scatter_matrix?`` and then hit Ctrl-Enter."
   ]
  },
  {
   "cell_type": "code",
   "execution_count": null,
   "metadata": {},
   "outputs": [],
   "source": []
  },
  {
   "cell_type": "code",
   "execution_count": 27,
   "metadata": {},
   "outputs": [
    {
     "data": {
      "text/html": [
       "<div>\n",
       "<style scoped>\n",
       "    .dataframe tbody tr th:only-of-type {\n",
       "        vertical-align: middle;\n",
       "    }\n",
       "\n",
       "    .dataframe tbody tr th {\n",
       "        vertical-align: top;\n",
       "    }\n",
       "\n",
       "    .dataframe thead th {\n",
       "        text-align: right;\n",
       "    }\n",
       "</style>\n",
       "<table border=\"1\" class=\"dataframe\">\n",
       "  <thead>\n",
       "    <tr style=\"text-align: right;\">\n",
       "      <th></th>\n",
       "      <th>Acetic</th>\n",
       "      <th>H2S</th>\n",
       "      <th>Lactic</th>\n",
       "      <th>Taste</th>\n",
       "    </tr>\n",
       "  </thead>\n",
       "  <tbody>\n",
       "    <tr>\n",
       "      <th>Acetic</th>\n",
       "      <td>1.000000</td>\n",
       "      <td>0.617956</td>\n",
       "      <td>0.604348</td>\n",
       "      <td>0.549529</td>\n",
       "    </tr>\n",
       "    <tr>\n",
       "      <th>H2S</th>\n",
       "      <td>0.617956</td>\n",
       "      <td>1.000000</td>\n",
       "      <td>0.643897</td>\n",
       "      <td>0.755763</td>\n",
       "    </tr>\n",
       "    <tr>\n",
       "      <th>Lactic</th>\n",
       "      <td>0.604348</td>\n",
       "      <td>0.643897</td>\n",
       "      <td>1.000000</td>\n",
       "      <td>0.703482</td>\n",
       "    </tr>\n",
       "    <tr>\n",
       "      <th>Taste</th>\n",
       "      <td>0.549529</td>\n",
       "      <td>0.755763</td>\n",
       "      <td>0.703482</td>\n",
       "      <td>1.000000</td>\n",
       "    </tr>\n",
       "  </tbody>\n",
       "</table>\n",
       "</div>"
      ],
      "text/plain": [
       "          Acetic       H2S    Lactic     Taste\n",
       "Acetic  1.000000  0.617956  0.604348  0.549529\n",
       "H2S     0.617956  1.000000  0.643897  0.755763\n",
       "Lactic  0.604348  0.643897  1.000000  0.703482\n",
       "Taste   0.549529  0.755763  0.703482  1.000000"
      ]
     },
     "metadata": {},
     "output_type": "display_data"
    },
    {
     "data": {
      "image/png": "[encoded data removed]",
      "text/plain": [
       "<Figure size 720x576 with 16 Axes>"
      ]
     },
     "metadata": {
      "needs_background": "light"
     },
     "output_type": "display_data"
    }
   ],
   "source": [
    "# Here is the solution code for the above:\n",
    "# \n",
    "display(cheese.corr())\n",
    "from pandas.plotting import scatter_matrix\n",
    "scatter_matrix(cheese, alpha = 0.8, figsize=(10, 8), marker=\"s\", diagonal = \"kde\");"
   ]
  },
  {
   "cell_type": "markdown",
   "metadata": {},
   "source": [
    "Which column is the most correlated with the outcome variable called \"Taste\"?\n",
    "\n",
    "Let us build a regression model using that measurement of \"H2S\", the concentration of hydrogen sulfide in the cheese, to predict its taste.\n",
    "\n",
    "First, we set up an `instance` of the linear regression model:\n",
    "```python\n",
    "mymodel = LinearRegression()\n",
    "type(mymodel)\n",
    "```\n",
    "\n",
    "The `mymodel` is an object. It is an object of a linear regression model, but it is empty at the moment. We will provide it some training data, to build the model, in this way:\n",
    "\n",
    "```python\n",
    "mymodel = LinearRegression()\n",
    "mymodel.fit(X, y)\n",
    "```\n",
    "\n",
    "but we have to tell it what is `X` and what is `y`. So we have a small detour..."
   ]
  },
  {
   "cell_type": "markdown",
   "metadata": {},
   "source": [
    "We need numeric values for `X` and `y`. We can get those as follows.\n",
    "\n",
    "```python\n",
    "print(cheese[\"H2S\"])  # A Pandas Series (single column from the matrix of Cheese data)\n",
    "print(cheese[\"H2S\"].values)  # NumPy vector of values, \n",
    "print(cheese[\"H2S\"].values.shape)  # Notice the vector is just a 1-D array of 30 values\n",
    "print(cheese[\"H2S\"].values.reshape(-1, 1)) # Force them into a single column\n",
    "print(cheese[\"H2S\"].values.reshape(-1, 1).shape)  # Now we have the right shape for scikit-learn\n",
    "```\n",
    "\n",
    "Scikit-learn requires the `X` data (the values used to predict `y`) to be a column vector or a matrix. Notice that a column vector is just a matrix with 1 column. This is because, you will see later, you can have 1 or more columns used to predict `y`. Therefore every input used to predict `y` must be in a column. Each row in the input matrix is one observation.\n",
    "\n",
    "So this will work to build your regression model:\n",
    "\n",
    "```python\n",
    "\n",
    "# A single column in matrix X (capital X indicates one or more input columns)\n",
    "X = cheese[\"H2S\"].values.reshape(-1, 1) \n",
    "y = cheese[\"Taste\"].values\n",
    "mymodel = LinearRegression()\n",
    "mymodel.fit(X, y)\n",
    "```\n",
    "\n",
    "If you run this code and see no error messages, the model has been built. But it is not that exciting. "
   ]
  },
  {
   "cell_type": "code",
   "execution_count": null,
   "metadata": {},
   "outputs": [],
   "source": []
  },
  {
   "cell_type": "markdown",
   "metadata": {},
   "source": [
    "So what can you do with this model? Use \n",
    "```python\n",
    "dir(mymodel)\n",
    "```\n",
    "to ask Python what can be done. Note that the ``dir(...)`` function works on any object and is something that you will use regularly.\n",
    "\n",
    "There are several interesting *methods* that you see there which we will get to use.\n",
    "\n",
    "* `coef_`\n",
    "* `intercept_`\n",
    "* `predict`\n",
    "* `rank_`\n",
    "* `score`\n",
    "\n",
    "The first two, are as you might guess, the intercept of the model and the coefficient (slope).\n",
    "\n",
    "```python\n",
    "print(f\"The intercept is {mymodel.intercept_} and the slope is = {mymodel.coef_}\")\n",
    "```\n",
    "\n",
    "Now it is not so handy having all those decimal places. Python allows you to truncate them to the desired number:\n",
    "\n",
    "```python\n",
    "print(f\"The intercept is {mymodel.intercept_:.5g} and the slope is = {mymodel.coef_}\")\n",
    "```\n",
    "\n",
    "We have to be a bit more careful with the slope. It is an array (see the square brackets?): so we need to extract the first entry from that vector before displaying it:\n",
    "```python\n",
    "print(f\"The intercept is {mymodel.intercept_:.5g} and the slope is = {mymodel.coef_[0]:.5g}\")\n",
    "```\n",
    "\n",
    "Try this as well:\n",
    "```python\n",
    "print(f\"The intercept is {mymodel.intercept_:.5f} and the slope is = {mymodel.coef_[0]:.5f}\")\n",
    "```\n",
    "There is a subtle difference between the `f` and the `g` format specifiers."
   ]
  },
  {
   "cell_type": "code",
   "execution_count": 64,
   "metadata": {},
   "outputs": [
    {
     "name": "stdout",
     "output_type": "stream",
     "text": [
      "The intercept is -9.78843 and the slope is = 5.77641\n"
     ]
    }
   ],
   "source": [
    "X = cheese[\"H2S\"].values.reshape(-1, 1) \n",
    "y = cheese[\"Taste\"].values\n",
    "mymodel = LinearRegression()\n",
    "mymodel.fit(X, y)\n",
    "print(f\"The intercept is {mymodel.intercept_:.5f} and the slope is = {mymodel.coef_[0]:.5f}\")"
   ]
  },
  {
   "cell_type": "markdown",
   "metadata": {},
   "source": [
    "mymodel.predict(X)\n",
    "\n"
   ]
  },
  {
   "cell_type": "code",
   "execution_count": null,
   "metadata": {},
   "outputs": [],
   "source": []
  },
  {
   "cell_type": "code",
   "execution_count": null,
   "metadata": {},
   "outputs": [],
   "source": [
    "# IGNORE this. Execute this cell to load the notebook's style sheet.\n",
    "from IPython.core.display import HTML\n",
    "css_file = './images/style.css'\n",
    "HTML(open(css_file, \"r\").read())"
   ]
  }
 ],
 "metadata": {
  "hide_input": false,
  "kernelspec": {
   "display_name": "Python 3",
   "language": "python",
   "name": "python3"
  },
  "language_info": {
   "codemirror_mode": {
    "name": "ipython",
    "version": 3
   },
   "file_extension": ".py",
   "mimetype": "text/x-python",
   "name": "python",
   "nbconvert_exporter": "python",
   "pygments_lexer": "ipython3",
   "version": "3.8.1"
  },
  "toc": {
   "base_numbering": "1",
   "nav_menu": {},
   "number_sections": true,
   "sideBar": true,
   "skip_h1_title": true,
   "title_cell": "Table of Contents",
   "title_sidebar": "Contents",
   "toc_cell": true,
   "toc_position": {
    "height": "calc(100% - 180px)",
    "left": "10px",
    "top": "150px",
    "width": "348.984px"
   },
   "toc_section_display": true,
   "toc_window_display": true
  },
  "varInspector": {
   "cols": {
    "lenName": 16,
    "lenType": 16,
    "lenVar": 40
   },
   "kernels_config": {
    "python": {
     "delete_cmd_postfix": "",
     "delete_cmd_prefix": "del ",
     "library": "var_list.py",
     "varRefreshCmd": "print(var_dic_list())"
    },
    "r": {
     "delete_cmd_postfix": ") ",
     "delete_cmd_prefix": "rm(",
     "library": "var_list.r",
     "varRefreshCmd": "cat(var_dic_list()) "
    }
   },
   "types_to_exclude": [
    "module",
    "function",
    "builtin_function_or_method",
    "instance",
    "_Feature"
   ],
   "window_display": false
  }
 },
 "nbformat": 4,
 "nbformat_minor": 2
}
