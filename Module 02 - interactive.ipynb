{
 "cells": [
  {
   "cell_type": "markdown",
   "metadata": {
    "toc": true
   },
   "source": [
    "<h1>Table of Contents<span class=\"tocSkip\"></span></h1>\n",
    "<div class=\"toc\"><ul class=\"toc-item\"><li><span><a href=\"#Strings\" data-toc-modified-id=\"Strings-1\"><span class=\"toc-item-num\">1&nbsp;&nbsp;</span>Strings</a></span></li><li><span><a href=\"#Lists\" data-toc-modified-id=\"Lists-2\"><span class=\"toc-item-num\">2&nbsp;&nbsp;</span>Lists</a></span></li><li><span><a href=\"#For-loops:-iterating\" data-toc-modified-id=\"For-loops:-iterating-3\"><span class=\"toc-item-num\">3&nbsp;&nbsp;</span>For loops: iterating</a></span></li><li><span><a href=\"#If-and-else-if-branching-in-code\" data-toc-modified-id=\"If-and-else-if-branching-in-code-4\"><span class=\"toc-item-num\">4&nbsp;&nbsp;</span>If and else if branching in code</a></span></li><li><span><a href=\"#Commenting-and-variable-names\" data-toc-modified-id=\"Commenting-and-variable-names-5\"><span class=\"toc-item-num\">5&nbsp;&nbsp;</span>Commenting and variable names</a></span></li></ul></div>"
   ]
  },
  {
   "cell_type": "markdown",
   "metadata": {},
   "source": [
    "> All content here is under a Creative Commons Attribution [CC-BY 4.0](https://creativecommons.org/licenses/by/4.0/) and all source code is released under a [BSD-2 clause license](https://en.wikipedia.org/wiki/BSD_licenses).\n",
    ">\n",
    ">Please reuse, remix, revise, and [reshare this content](https://github.com/kgdunn/python-basic-notebooks) in any way, keeping this notice."
   ]
  },
  {
   "cell_type": "markdown",
   "metadata": {},
   "source": [
    "# Overview of this session\n",
    "\n",
    "We cover a diverse range of topics: \n",
    "\n",
    "* strings, \n",
    "* lists [also called  *vectors* , if you are used to MATLAB or C or Java]\n",
    "* for-loops, \n",
    "* if-else branching in your code\n",
    "* files. \n",
    "\n",
    "They seem unrelated, but they hang together conceptually: they all about sequences, or collections: characters in a strings, items in a list, loops to process the sequence, and files can be looped over line by line.\n",
    "\n",
    "In between we will cover some topics related to commenting, error checking and debugging.\n",
    "\n",
    "* intentionally creating errors.\n",
    "* Reading a file: getting a line, getting lines into a list\n",
    "\n",
    "\n"
   ]
  },
  {
   "cell_type": "markdown",
   "metadata": {},
   "source": [
    "## Strings\n",
    "\n",
    "\n",
    "Strings are some of the simplest objects in Python. Last module you created several of them. Create this string in Python:\n",
    "\n",
    "```python\n",
    "s = \"\"\"Secretly under development for the past three years, Bezos said the \n",
    "\"Blue Moon\" lander, using a powerful new hydrogen-powered engine generating up\n",
    "to 10,000 pounds of thrust, will be capable of landing up to 6.5 metric tons \n",
    "of equipment on the lunar surface.\"\"\"\n",
    "```\n",
    "Now use the above string to perform the following actions. Look up the Standard library help files for ``strings`` (like we showed last time) to find the methods required.\n",
    "\n",
    "1. Print it to screen completely in upper case.\n",
    "1. Print it to screen but with lower and uppercase characters switched around.\n",
    "1. Try the following: ``print(s * 8)``.\n",
    "1. Try the following: ``print(s + s)``. *Do these two mathematical operations make sense for strings?*\n",
    "1. What is the length of this string?\n",
    "1. How many times does the word \"the\" appear in the string?\n",
    "1. At which position in the string does the word ``Secretly`` appear? *How does this differ with MATLAB?*\n",
    "1. At which position in the string does the word ``Bezos`` appear?\n",
    "1. Return a boolean ``True`` or ``False`` if the string ``endswith`` a full stop.\n",
    "1. Return the string, replacing the instance of 'hydrogen' with 'nuclear'.\n",
    "1. Replace every space in the above sentence with a newline character, and reprint the sentence to the screen."
   ]
  },
  {
   "cell_type": "code",
   "execution_count": null,
   "metadata": {},
   "outputs": [],
   "source": []
  },
  {
   "cell_type": "markdown",
   "metadata": {},
   "source": [
    "The above are all effectively done using what are called ***methods***.\n",
    "\n",
    "> A method an *attribute* of an *object*.\n",
    "\n",
    "In the above, a ``string`` is your *object* and objects have one or more attributes.\n",
    "\n",
    "Some tips:\n",
    "\n",
    "1. You can get a **list** [we cover lists next!] of all attributes using the ``dir(...)`` command.\n",
    "\n",
    "```python\n",
    "s = \"\"\"Secretly under development for ... the lunar surface.\"\"\"\n",
    "dir(s)\n",
    "['__add__', '__class__', '__contains__', '__delattr__', '__dir__', '__doc__', '__eq__', '__format__', '__ge__', '__getattribute__', '__getitem__', '__getnewargs__', '__gt__', '__hash__', '__init__', '__iter__', '__le__', '__len__', '__lt__', '__mod__', '__mul__', '__ne__', '__new__', '__reduce__', '__reduce_ex__', '__repr__', '__rmod__', '__rmul__', '__setattr__', '__sizeof__', '__str__', '__subclasshook__', 'capitalize', 'casefold', 'center', 'count', 'encode', 'endswith', 'expandtabs', 'find', 'format', 'format_map', 'index', 'isalnum', 'isalpha', 'isdecimal', 'isdigit', 'isidentifier', 'islower', 'isnumeric', 'isprintable', 'isspace', 'istitle', 'isupper', 'join', 'ljust', 'lower', 'lstrip', 'maketrans', 'partition', 'replace', 'rfind', 'rindex', 'rjust', 'rpartition', 'rsplit', 'rstrip', 'split', 'splitlines', 'startswith', 'strip', 'swapcase', 'title', 'translate', 'upper', 'zfill']\n",
    "```\n",
    "You can ignore all the attributes beginning and ending with a double underscore, for example ``__add__``. The attributes which are of practical use to you are the ones starting from ``capitalize``, all the way to the end.\n",
    "\n",
    "2. You don't need to create a string ``s`` first to get a list of the attributes. You can also use this shortcut:\n",
    "\n",
    "```python\n",
    "dir('')\n",
    "dir(str)\n",
    "```\n",
    "\n",
    "3. If you see an attribute that looks interesting, you can request help on it:  ``help(''.startswith)`` or ``help(\"\".startswith)``. Notice the ``''`` in the brackets: it creates an empty string, and then accesses the attribute ``.startswith`` and then asks for help on that. \n",
    "\n",
    "You will get a piece of help text printed to the screen. This is helpful later on when you are comfortable with Python. In the beginning it is more helpful to search in a search engine, which will give you a page with examples. The built-in Python help is usually very very brief.\n",
    "\n",
    "\n",
    "Use this knowledge know to figure out what the difference is between ``s.find`` and ``s.index``.  Make sense?\n"
   ]
  },
  {
   "cell_type": "code",
   "execution_count": null,
   "metadata": {},
   "outputs": [],
   "source": []
  },
  {
   "cell_type": "markdown",
   "metadata": {},
   "source": [
    "You can do what is called *slicing* on a string. Slicing is the ability to get sub-parts of a string:\n",
    "\n",
    "```python\n",
    "word = 'landing'\n",
    "print(word[1:4])\n",
    "```\n",
    "\n",
    "* How long is printed text on the screen? \n",
    "* Again, for MATLAB users: how does that differ with what you are used to?\n",
    "* What is returned with ``word[3:]``?\n",
    "* What is returned with ``word[3:99]``?\n",
    "* What is returned with ``word[2:6:3]``?\n",
    "* And try this: ``word[6:2:-1]``\n",
    "* And lastly ``word[-4:-7:-1]``"
   ]
  },
  {
   "cell_type": "code",
   "execution_count": null,
   "metadata": {},
   "outputs": [],
   "source": []
  },
  {
   "cell_type": "markdown",
   "metadata": {},
   "source": [
    "Speaking of DNA ... create this sequence in Python:\n",
    "\n",
    "```python\n",
    "seq = \"\"\"TAGGGGCCTCCAATTCATCCAACACTCTACGCCTTCTCCAAGAGCTAGTAGGGCACCCTGCAGTTGGAAAGGGAACTATTTCGTAGGGCGAGCCCATACCGTCTCTCTTGCGGAAGACTTAACACGATAGGAAGCTGGAATAGTTTCGAACGATGGTTATTAATCCTAATAACGGAACGCTGTCTGGAGGATGAGTGTGACGGAGTGTAACTCGATGAGTTACCCGCTAATCGAACTGGGCGAGAGATCCCAGCGCTGATGCACTCGATCCCGAGGCCTGACCCGACATATCAGCTCAGACTAGAGCGGGGCTGTTGACGTTTGGGGTTGAAAAAATCTATTGTACCAATCGGCTTCAACGTGCTCCACGGCTGGCGCCTGAGGAGGGGCCCACACCGAGGAAGTAGACTGTTGCACGTTGGCGATGGCGGTAGCTAACTAAGTCGCCTGCCACAACAACAGTATCAAAGCCGTATAAAGGGAACATCCACACTTTAGTGAATCGAAGCGCGGCATCAGAATTTCCTTTTGGATACCTGATACAAAGCCCATCGTGGTCCTTAGACTTCGTGCACATACAGCTGCACCGCACGCATGTGGAATTAGAGGCGAAGTACGATTCCTAGACCGACGTACGATACAACTATGTGGATGTGACGAGCTTCTTTTATATGCTTCGCCCGCCGGACCGGCCTCGCGATGGCGTAG\"\"\"\n",
    "```\n",
    "\n",
    "* What is the first occurrence of ``GATTAG`` in the sequence?\n",
    "* How many times does ``TTTT`` occur?\n",
    "* Replace all ``A`` entries with ``T``'s and all ``C`` entries with ``G``'s."
   ]
  },
  {
   "cell_type": "code",
   "execution_count": null,
   "metadata": {},
   "outputs": [],
   "source": []
  },
  {
   "cell_type": "markdown",
   "metadata": {},
   "source": [
    "## Lists\n",
    "\n",
    "We will cover creating, adding, accessing and using lists of objects.\n",
    "\n",
    "You have seen this before: create a list with the square bracket characters: ``[`` and ``]``.\n",
    "\n",
    "For example: ``words = ['Mary', 'loved', 'chocolate.']``\n",
    "\n",
    "One of the most useful functions in Python is ``len(...)``. Verify that it returns an integer value of 3. Does it have the **type** you expect?"
   ]
  },
  {
   "cell_type": "code",
   "execution_count": null,
   "metadata": {},
   "outputs": [],
   "source": []
  },
  {
   "cell_type": "markdown",
   "metadata": {},
   "source": [
    "The entries in the list can be mixed types (contrast this to most other programming languages!)\n",
    "    \n",
    "```python\n",
    "group = ['yeast', 'bacillus', 994, 'aspergillus' ]\n",
    "```\n",
    "\n",
    "An important test is to check if the list contains something:\n",
    "\n",
    "```python\n",
    "'aspergillus' in group\n",
    "499 in group\n",
    "```\n",
    "\n",
    "Like we saw with strings, you can use the ``*`` and ``+`` operators:\n",
    "\n",
    "```python\n",
    "group * 3\n",
    "group + group   # might not do what you expect!\n",
    "group - group   # oooops\n",
    "```\n",
    "\n",
    "And like strings, you refer to them based on the position counter of 0:\n",
    "```python\n",
    "group[0]\n",
    "\n",
    "# but this is also possible:\n",
    "group[-3]\n",
    "\n",
    "# however, is this expected?\n",
    "group[4]\n",
    "```"
   ]
  },
  {
   "cell_type": "code",
   "execution_count": null,
   "metadata": {},
   "outputs": [],
   "source": []
  },
  {
   "cell_type": "markdown",
   "metadata": {},
   "source": [
    "Lists, also have have some methods that you can use. Lists in fact have far fewer methods than strings. Remember how to get a list of methods from the prior module?\n",
    "\n",
    "```python\n",
    "dir(....) # what do you fill in here?\n",
    "```\n",
    "\n",
    "How many methods do you see which you can apply to a list? \n",
    "\n",
    "Let's try a few of them out:\n",
    "1. ``append`` a new entry to the list you created above, called ``group``: add the entry \"Candida albicans\"\n",
    "1. Create a new list ``reptiles = ['crocodile', 'turtle']`` and then try: ``group.extend(reptiles)``.\n",
    "1. Print the list. Remove the ``crocodile`` entry from the list. Print it again to verify it succeeded. \n",
    "1. Now try to remove the entry again. What happens?\n",
    "1. Use the following command: ``group.reverse()``, and print the ``group`` variable to the screen.\n",
    "1. Now try this instead: ``group = group.reverse()`` and print the ``group`` variable to the screen. What happened this time?\n",
    "1. So you are back to square one: make a new list variable ``group = ['yeast', 'bacillus', 'aspergillus' ]`` and try ``group.sort()``. Notice that ``.sort()``, like the ``.reverse()`` method operate *in-place*: there is no need to assign the output of the action to a new variable. In fact, you cannot.\n",
    "1. Here's something to be aware of: create ``group = ['yeast', 'bacillus', 994, 'aspergillus' ]``; and now try ``group.sort()``. What does the error message tell you?\n"
   ]
  },
  {
   "cell_type": "code",
   "execution_count": null,
   "metadata": {},
   "outputs": [],
   "source": []
  },
  {
   "cell_type": "markdown",
   "metadata": {},
   "source": [
    "Lists behave like a stack: you can add things to the end using ``.append()`` and you can remove them again with ``.pop()``.\n",
    "\n",
    "Think of a stack of plates: last appended, first removed.\n",
    "\n",
    "Try it:\n",
    "```python\n",
    "species  = ['chimp', 'bacillus', 'aspergillus']\n",
    "species.append('hoooman')\n",
    "first_out = species.pop()\n",
    "print(first_out)\n",
    "```\n",
    "* What is the length of the list after running this code?\n",
    "* Try adding a new entry ``arachnid`` between ``chimp`` and ``bacillus`` using the ``.insert()`` command. Print the list to verify it. \n",
    "> If you don't know how to use the ``.insert()`` method, but you know if exists, you can type ``help([].insert)`` at the command prompt to get a quick help. Or you can search the web which gives more comprehensive help, with examples."
   ]
  },
  {
   "cell_type": "code",
   "execution_count": null,
   "metadata": {},
   "outputs": [],
   "source": []
  },
  {
   "cell_type": "markdown",
   "metadata": {},
   "source": [
    "\n",
    "\n",
    "* Contrast this to strings: immutable vs mutable.\n",
    "* See mikedane resources\n",
    "* Find the exact entry\n",
    "* Find the closest entry\n",
    "* Find entries which appear more than once in a list\n",
    "* Common elements into two different lists. Join function equivalent?\n",
    "* Count how many entries in a list are greater than a threshold. List comprehension\n",
    "* Contrast with tuples. Seen before. Immutable concept introduced\n",
    "* Index slices. Doesn't return last element\n",
    "* Lists: append, insert, extend. Sort is special..clear() too\n",
    "* Read file for the above DNA string\n",
    "    import urllib.request\n",
    "    with urllib.request.urlopen('http://python.org/') as response:\n",
    "        html = response.read()"
   ]
  },
  {
   "cell_type": "code",
   "execution_count": null,
   "metadata": {},
   "outputs": [],
   "source": []
  },
  {
   "cell_type": "markdown",
   "metadata": {},
   "source": [
    "List comprehensions:\n",
    "    \n",
    "    \n",
    "Make a list with first 10 elements of the  multiplication table of 2 (tafel van 2) using \"Python list comprehension\"\n",
    "``print([2**x for x in range(1,11)])``"
   ]
  },
  {
   "cell_type": "code",
   "execution_count": null,
   "metadata": {},
   "outputs": [],
   "source": []
  },
  {
   "cell_type": "markdown",
   "metadata": {},
   "source": [
    "## For loops: iterating\n",
    "\n",
    "The ``for`` loop is used to run a piece of code a certain number of times. The basic structure with an example, to print the integer values from 3 up to, and including 8 is:\n",
    "\n",
    "```python\n",
    "# This is one way to do it:\n",
    "for i in range(3, 9):\n",
    "    # You can have many lines of code here. Only 2 are statements are shown.\n",
    "    print(i)\n",
    "    print('-----')\n",
    "    \n",
    "```\n",
    "\n",
    "Before the command ``print(i)`` is a tab character or 4 spaces. Please use spaces, and not tabs. Especially if you will interact with other colleagues writing code. Therefore the letter ``p`` from ``print`` goes exactly under the ``i``. \n",
    "\n",
    "That ``i`` is the loop counter. The ``range(3, 9)`` tells how many times the loop will iterate.\n",
    "\n",
    "Use ``list(range(3, 9))`` to see a list representation of the ``range()`` function. Try creating these ranges:\n",
    "\n",
    "* Every integer from 0, up to and including 12.\n",
    "* Every integer from 0, up to and including 12, in steps of 2\n",
    "* Every integer from 12 down to and including 0, in steps of -3\n",
    "* Use a ``range`` command to create the values ``[-10, -40, -70]``\n",
    "* Values between 0.5, up to and including 9.5, in steps of 0.5"
   ]
  },
  {
   "cell_type": "code",
   "execution_count": null,
   "metadata": {},
   "outputs": [],
   "source": []
  },
  {
   "cell_type": "markdown",
   "metadata": {},
   "source": [
    "1. Inside the for loop you can one or more statements. In the above there are 2 statements and a comment. It is usual to start your comment - if it is required -- with an indent as well. This way it is clear the comment refers to the contents of the for-loop.\n",
    "\n",
    "2. You can name the variable that you iterate with anything you like, as long as it is a valid variable name. Remember those from [last time](https://yint.org/pybasic01)?\n",
    "\n",
    "You can loop over many types of objects in Python. Try this:\n",
    "\n",
    "```python\n",
    "reptiles = ['crocodile', 'turtle', 12.34, 'lizard', 'snake', False]\n",
    "for animal in reptiles:\n",
    "    print('The \"animal\" object is of type ' + str(type(animal)))\n",
    "```\n",
    "\n",
    "and here you can see *dynamic typing* at its finest. Very useful for coding.\n",
    "\n",
    "You can also iterate over the entries of a string!\n",
    "```python\n",
    "sequence =  \"TAGGGGCCTCCA\"\n",
    "number = 1\n",
    "for base in sequence:\n",
    "    print('Base number {} is {}'.format(number, base))\n",
    "    number += 1\n",
    "```\n",
    "\n",
    "In the above we introduced another concept: that you can print with the ``.format()`` command. We will see more of this later, but then it won't be a surprise.\n"
   ]
  },
  {
   "cell_type": "code",
   "execution_count": null,
   "metadata": {},
   "outputs": [],
   "source": []
  },
  {
   "cell_type": "markdown",
   "metadata": {},
   "source": [
    "Now that you have seen how you can iterate over the items of a list, let's try to put this to use:\n",
    "\n",
    "1. Print the 3-times table, from 1 up till 12, like you learned in school:\n",
    "> 3 times 1 is 3\n",
    ">\n",
    "> 3 times 2 is 6\n",
    ">\n",
    "> 3 times 3 is 9\n",
    "> ...\n",
    "2. If you haven't done so already, re-write your code to use the ``.format()`` command, as demonstrated above.\n",
    "3. With 1 line of code find at which position in the list the value of 42 appears: ``[0, 3, 9, 12, 27, 35, 42, 50, 66]``\n",
    "4. *Based on a real example from just last week*: find the value in the previous list closest to ``19``. Note: don't worry about short code, or efficiency. Just find the answer. In the real example the list was thousands of entries long and was to find the closest time within $\\pm$ 5 minutes. Then you need to worry about efficiency.\n",
    "\n"
   ]
  },
  {
   "cell_type": "code",
   "execution_count": null,
   "metadata": {},
   "outputs": [],
   "source": []
  },
  {
   "cell_type": "markdown",
   "metadata": {},
   "source": [
    "**Advanced tip:** sometimes you want to iterate through a list, but also know which entry you are iterating on. You can do both simultaneously with the ``enumerate`` command.\n",
    "\n",
    "```python\n",
    "names = ['Leonardo', 'Carl', 'Amiah', 'Yaretzi', 'Destiny', 'Alan']\n",
    "for index, name in enumerate(names):\n",
    "    print('{} is number {} in the list'.format(name, index+1))\n",
    "```\n",
    "\n",
    "What ``enumerate`` does is to create a ``tuple`` with 2 entries. These two entries are dynamically assigned: the first one is an ``integer`` assigned to ``index`` and the second one is assigned to ``name`` in this example. You are free to choose both variable names."
   ]
  },
  {
   "cell_type": "code",
   "execution_count": null,
   "metadata": {},
   "outputs": [],
   "source": []
  },
  {
   "cell_type": "markdown",
   "metadata": {},
   "source": [
    "## If and else if branching in code\n",
    "\n",
    "Like in other languages, Python also has the ability to create branches in the code. \n",
    "\n",
    "> if \\_\\_&lt;condition> \\_\\_ then \\_\\_&lt;action\\>\\_\\_\n",
    "\n",
    "They can also have an ``else`` part:\n",
    "\n",
    "> if \\_\\_&lt;condition> \\_\\_ then \\_\\_&lt;action\\>\\_\\_ else \\_\\_&lt;some other action\\>\\_\\_\n",
    "\n",
    "Or even multiple ``if else`` checks, like the ``switch`` or ``case`` constructions found in other languages.\n",
    "\n",
    "Indentation is important, as shown in this example.\n",
    "```python\n",
    "slope = ... # some code goes here to calculate the slope\n",
    "if slope > 0:\n",
    "    sign_of_slope = 'positive'\n",
    "elif slope < 0:\n",
    "    sign_of_slope = 'negative'\n",
    "else:\n",
    "    sign_of_slope = 'zero'\n",
    "    \n",
    "print('The slope was observed to be {}.'.format(sign_of_slope))\n",
    "```\n",
    "\n",
    "In the prior module we were writing code to automatically write a report for us. The code generated this output:\n",
    "\n",
    "> The regression trend of **45.9** mg/day was detected for this product, with a p-value of **0.00341**. This indicates that there is an important **rising** trend over time.\n",
    "\n",
    "Use the above code as starting point, but add to it. At the end the code should be able to produce all 4 variants of the outputs, depending on the value of ``slope`` and ``p_value``. The ``slope`` is either considered to be **rising** or **falling**, and a ``p_value`` greater than 0.20 requires that an extra phrase be added.\n",
    "\n",
    "Variant 1: The regression trend of **12.4** mg/day was detected for this product, with a p-value of **0.0141**. This indicates that there is an important **rising** trend over time.\n",
    "\n",
    "Variant 2: The regression trend of **12.4** mg/day was detected for this product, with a p-value of **0.425**. This indicates that there is an important **rising** trend over time, but it likely has no impact on the system.\n",
    "\n",
    "Variant 3: The regression trend of **-5.2** mg/day was detected for this product, with a p-value of **0.142**. This indicates that there is an important **falling** trend over time.\n",
    "\n",
    "Variant 4: The regression trend of **-5.2** mg/day was detected for this product, with a p-value of **0.209**. This indicates that there is an important **falling** trend over time, but it likely has no impact on the system.\n",
    "\n",
    "Check that your code correctly produces the output when:\n",
    "* ``slope = 0.00542`` and ``p_value = 0.0419``\n",
    "* ``slope = -521`` and ``p_value = 0.2000001``\n"
   ]
  },
  {
   "cell_type": "code",
   "execution_count": null,
   "metadata": {},
   "outputs": [],
   "source": []
  },
  {
   "cell_type": "markdown",
   "metadata": {},
   "source": [
    "Newton's method for square root\n",
    "\n",
    "```python\n",
    "import math\n",
    "y = 13.0\n",
    "n = 3                           # number of significant figures\n",
    "rel_error = 0.5 * 10 ** (2-n)   # relative error calculation\n",
    "x = y / 2.0\n",
    "x_prev = 0.0\n",
    "iter = 0\n",
    "while abs(x - x_prev)/x > rel_error:\n",
    "    x_prev = x\n",
    "    x = (x + y/x) / 2.0\n",
    "    print(abs(x - x_prev)/x)\n",
    "    iter += 1\n",
    "    \n",
    "print('Used %d iterations to calculate sqrt(%f) = %.20f; '\n",
    "      'true value = %.20f\\n ' % (iter, y, x, math.sqrt(y)))\n",
    "```"
   ]
  },
  {
   "cell_type": "code",
   "execution_count": null,
   "metadata": {},
   "outputs": [],
   "source": []
  },
  {
   "cell_type": "markdown",
   "metadata": {},
   "source": [
    "## Commenting and variable names\n",
    "\n",
    "Comments are many times as important as the code itself. But it takes time to write them.\n",
    "\n",
    "The choice of variable names is related to the topic of comments. In many ways, the syntax of Python makes the code self-documenting, meaning you do not need to add comments at all. But it definitely is assisted by choosing meaningful variable names:\n",
    ">```python\n",
    ">for genome in range(len(sequenced_genomes)):\n",
    ">    <do something with genome>\n",
    "```\n",
    "\n",
    "This quite clearly shows that we are iterating over the all genomes in some iterable (it could be a list, tuple, or set, for example) container variables of sequenced genomes.\n",
    "\n",
    "But here the code structure is identical:\n",
    ">```python\n",
    ">for k in range(len(sequences)):\n",
    ">    <do something with k>\n",
    "```\n",
    "Later on in the code it might not be clear what ``k`` represents. \n",
    "    \n",
    "Comments should be added in these cases:\n",
    "* refer to a publication or internal company report, \n",
    "* refer to a website where you got inspiration/based your algorithm on\n",
    " "
   ]
  },
  {
   "cell_type": "code",
   "execution_count": null,
   "metadata": {},
   "outputs": [],
   "source": []
  },
  {
   "cell_type": "markdown",
   "metadata": {},
   "source": [
    "To cover if time:\n",
    "\n",
    "* Creating code cells in Spyder: ``# %% text here (in Spyder)``\n",
    "* Debugging in Spyder."
   ]
  },
  {
   "cell_type": "code",
   "execution_count": null,
   "metadata": {},
   "outputs": [],
   "source": []
  },
  {
   "cell_type": "code",
   "execution_count": null,
   "metadata": {},
   "outputs": [],
   "source": [
    "# Python Collections (Arrays)\n",
    "\n",
    "There are four collection data types in the Python programming language:\n",
    "\n",
    "- List is a collection which is ordered and changeable. Allows duplicate members.\n",
    "- Tuple is a collection which is ordered and unchangeable. Allows duplicate members.\n",
    "- Set is a collection which is unordered and unindexed. No duplicate members.\n",
    "- Dictionary is a collection which is unordered, changeable and indexed. No duplicate members.\n"
   ]
  }
 ],
 "metadata": {
  "kernelspec": {
   "display_name": "Python [conda env:anaconda]",
   "language": "python",
   "name": "conda-env-anaconda-py"
  },
  "language_info": {
   "codemirror_mode": {
    "name": "ipython",
    "version": 3
   },
   "file_extension": ".py",
   "mimetype": "text/x-python",
   "name": "python",
   "nbconvert_exporter": "python",
   "pygments_lexer": "ipython3",
   "version": "3.5.5"
  },
  "toc": {
   "base_numbering": 1,
   "nav_menu": {},
   "number_sections": true,
   "sideBar": true,
   "skip_h1_title": true,
   "title_cell": "Table of Contents",
   "title_sidebar": "Contents",
   "toc_cell": true,
   "toc_position": {},
   "toc_section_display": true,
   "toc_window_display": true
  }
 },
 "nbformat": 4,
 "nbformat_minor": 2
}
