{
 "cells": [
  {
   "cell_type": "markdown",
   "metadata": {},
   "source": [
    "> All content here is under a Creative Commons Attribution [CC-BY 4.0](https://creativecommons.org/licenses/by/4.0/) and all source code is released under a [BSD-2 clause license](https://en.wikipedia.org/wiki/BSD_licenses).\n",
    ">\n",
    ">Please reuse, remix, revise, and [reshare this content](https://github.com/kgdunn/python-basic-notebooks) in any way, keeping this notice."
   ]
  },
  {
   "cell_type": "markdown",
   "metadata": {},
   "source": [
    "# To cover\n",
    "\n",
    "* List basics: creating, adding, accessing, list of objects, indexing into list; it is zero-based\n",
    "* Reading a file: getting a line, getting lines into a list\n",
    "* If ; if-else; if-elif-else; aka flow control, indentation and colons. See udemy\n",
    "* strings as a list mystr[3]; mystr[5:9]; negative indexing; 0-based indexing\n",
    "* \"for loops; looping over a list; creating a list in a loop; range() function; naming a variable for the iterator in the loop;\n",
    "* enumerate looping with an index\"\n",
    "* string: split, find, index, etc\n",
    "\n",
    "* create code cells: # %% text here (in Spyder)\"\n",
    "* \"Errors: creating errors: 4/0 NameError\n",
    "* assert\"\n",
    "* Debugging in Spyder."
   ]
  },
  {
   "cell_type": "code",
   "execution_count": null,
   "metadata": {},
   "outputs": [],
   "source": []
  },
  {
   "cell_type": "code",
   "execution_count": null,
   "metadata": {},
   "outputs": [],
   "source": []
  },
  {
   "cell_type": "markdown",
   "metadata": {},
   "source": [
    "## Commenting and variable nams\n",
    "\n",
    "Comments are many times as important as the code itself. But it takes time to write them.\n",
    "\n",
    "The choice of variable names is related to the topic of comments. In many ways, the syntax of Python makes the code self-documenting, meaning you do not need to add comments at all. But it definitely is assisted by choosing meaningful variable names:\n",
    ">```python\n",
    ">for genome in len(sequenced_genomes):\n",
    ">    <do something with genome>\n",
    "```\n",
    "\n",
    "This quite clearly shows that we are iterating over the all genomes in some iterable (it could be a list, tuple, or set, for example) container variables of sequenced genomes.\n",
    "\n",
    "But here the code structure is identical:\n",
    ">```python\n",
    ">for k in len(sequences):\n",
    ">    <do something with k>\n",
    "```\n",
    "Later on in the code it might not be clear what ``k`` represents. \n",
    "    \n",
    "\n",
    "Comments should be added  in these cases:\n",
    "* refer to a publication, or a report on which you are basing your algorithm\n",
    "* Use \n",
    "* "
   ]
  },
  {
   "cell_type": "code",
   "execution_count": null,
   "metadata": {},
   "outputs": [],
   "source": []
  },
  {
   "cell_type": "code",
   "execution_count": null,
   "metadata": {},
   "outputs": [],
   "source": []
  },
  {
   "cell_type": "code",
   "execution_count": null,
   "metadata": {},
   "outputs": [],
   "source": [
    "# Python Collections (Arrays)\n",
    "\n",
    "There are four collection data types in the Python programming language:\n",
    "\n",
    "- List is a collection which is ordered and changeable. Allows duplicate members.\n",
    "- Tuple is a collection which is ordered and unchangeable. Allows duplicate members.\n",
    "- Set is a collection which is unordered and unindexed. No duplicate members.\n",
    "- Dictionary is a collection which is unordered, changeable and indexed. No duplicate members.\n"
   ]
  }
 ],
 "metadata": {
  "kernelspec": {
   "display_name": "Python [conda env:anaconda]",
   "language": "python",
   "name": "conda-env-anaconda-py"
  },
  "language_info": {
   "codemirror_mode": {
    "name": "ipython",
    "version": 3
   },
   "file_extension": ".py",
   "mimetype": "text/x-python",
   "name": "python",
   "nbconvert_exporter": "python",
   "pygments_lexer": "ipython3",
   "version": "3.5.5"
  },
  "toc": {
   "base_numbering": 1,
   "nav_menu": {},
   "number_sections": true,
   "sideBar": true,
   "skip_h1_title": true,
   "title_cell": "Table of Contents",
   "title_sidebar": "Contents",
   "toc_cell": false,
   "toc_position": {},
   "toc_section_display": true,
   "toc_window_display": false
  }
 },
 "nbformat": 4,
 "nbformat_minor": 2
}
