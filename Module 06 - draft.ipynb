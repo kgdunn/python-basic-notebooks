{
 "cells": [
  {
   "cell_type": "markdown",
   "metadata": {
    "toc": true
   },
   "source": [
    "<h1>Table of Contents<span class=\"tocSkip\"></span></h1>\n",
    "<div class=\"toc\"><ul class=\"toc-item\"><li><span><a href=\"#Python-functions\" data-toc-modified-id=\"Python-functions-1\"><span class=\"toc-item-num\">1&nbsp;&nbsp;</span>Python functions</a></span></li><li><span><a href=\"#Functions:-one-input,-one-output\" data-toc-modified-id=\"Functions:-one-input,-one-output-2\"><span class=\"toc-item-num\">2&nbsp;&nbsp;</span>Functions: one input, one output</a></span></li><li><span><a href=\"#Functions:-one-input,-two-outputs\" data-toc-modified-id=\"Functions:-one-input,-two-outputs-3\"><span class=\"toc-item-num\">3&nbsp;&nbsp;</span>Functions: one input, two outputs</a></span></li></ul></div>"
   ]
  },
  {
   "cell_type": "markdown",
   "metadata": {},
   "source": [
    "\n"
   ]
  },
  {
   "cell_type": "markdown",
   "metadata": {},
   "source": [
    "> All content here is under a Creative Commons Attribution [CC-BY 4.0](https://creativecommons.org/licenses/by/4.0/) and all source code is released under a [BSD-2 clause license](https://en.wikipedia.org/wiki/BSD_licenses). Parts of these materials were inspired by https://github.com/engineersCode/EngComp/ (CC-BY 4.0), L.A. Barba, N.C. Clementi.\n",
    ">\n",
    ">Please reuse, remix, revise, and [reshare this content](https://github.com/kgdunn/python-basic-notebooks) in any way, keeping this notice.\n",
    "\n",
    "<img src=\"images/general/128px-Achtung.svg.png\" style=\"width: 100px ; float: right\"/> \n",
    "NOTE: **THIS IS INCOMPLETE**. Do not use this yet."
   ]
  },
  {
   "cell_type": "markdown",
   "metadata": {},
   "source": [
    "### TODO\n",
    "\n",
    "\n",
    "* number of arguments is known. Provide an extra or too few: [1, 2,3,4].count(); [1, 2,3,3,4].count(3); [1, 2,3,3,4].count(3,3)\n",
    "* 2 inputs required: random.randint\n",
    "* return no outputs: [].sort()  [].append;; q = [1,2,3].append(4); assert(q is None)\n",
    "* return 1 output [1, 2,3,3,4].count(3)\n",
    "* return value: scalar\n",
    "* variables in a function are local; independent of variable outside\n",
    "* optional arguments.\n",
    "* when to use functions: \n",
    "* anything here:h ttps://nbviewer.jupyter.org/github/engineersCode/EngComp1_offtheground/blob/master/notebooks_en/2_Jupyter_strings_and_lists.ipynb\"\n",
    "* one input; one output\n",
    "* multiple inputs; single output\n",
    "* chained functions: one into another\n",
    "*  calling with and without argument names\n",
    "* arguments in different order\n",
    "* timeit: return time to execute function\n",
    "* Libraries: standard ones, p 83 of https://bugs.python.org/file47781/Tutorial_EDIT.pdf\n",
    "* introduce sets: an iterable\n",
    "\n",
    "➜ Challenge yourself: using NumPy and elementwise operations\n",
    "\n"
   ]
  },
  {
   "cell_type": "markdown",
   "metadata": {},
   "source": [
    "# Module 6: Overview \n",
    "\n",
    "In the [prior module](https://yint.org/pybasic05) you became comfortable doing calculations with vectors, matrices and arrays.\n",
    "\n",
    "We now take a detour to look at ***Python functions***. \n",
    "\n",
    "Eventually the calculations you wrote code for in prior modules can be generalized. This code can be reused in the future, with  other input data. Functions make this all possible.\n",
    "\n",
    "So this module introduces new ideas, but also reuses the content from the prior modules.\n",
    "\n",
    "<img src=\"images/general/Crystal_Clear_action_db_commit.png\" style=\"width: 100px ; float:left\"/> <br><br> Start a new (or use an existing) version controlled repository for your work. Commit your work regularly, where ever you see this icon.\n",
    "\n",
    "<hr>\n",
    "\n",
    "### Preparing for this module###\n",
    "\n",
    "You should have:\n",
    "1. Completed [worksheet 5](https://yint.org/pybasic05)\n",
    "2. Read sections 12.1 to 12.5 from [Foundations of Python Programming (FOPP)](https://runestone.academy/runestone/static/fopp/Functions/toctree.html)\n",
    "\n",
    "<hr>"
   ]
  },
  {
   "cell_type": "markdown",
   "metadata": {},
   "source": [
    "## Python functions\n",
    "\n",
    "A standard features in any programming language is the ability to write functions: a chunk of code that takes 0 or more inputs, and returns 0 or more outputs. Useful functions however accept 1 or more inputs.\n",
    "\n",
    "Functions help you:\n",
    "* split up your code, \n",
    "* make it modular, \n",
    "* allow you to reuse these modular blocks in the future in other code;\n",
    "* help you with debugging: you can help isolate bugs in your code by elimination. Functions that have been tested and checked are not likely to be the source of a problem any more.\n",
    "\n",
    "### A template\n",
    "\n",
    "Please consider using this standard template for your functions:\n",
    "\n",
    ">```python\n",
    ">def verb_description():\n",
    ">    \"\"\"Comment of what the function does goes here.\"\"\"\n",
    ">    \n",
    ">    # Commands for the function\n",
    ">    a = ...\n",
    ">    \n",
    ">    return ...\n",
    ">```\n",
    "\n",
    "1. Making the function name start with a verb makes it clear to you and others what it does.\n",
    "2. It also helps you prevent the function from doing more than it should.\n",
    "3. Start with a triple-quote comment: ```\"\"\" Calculates the mean of ... \"\"\"\n",
    "4. Using the 4-space indent on the left, write the various statements and loops to do the work.\n",
    "5. It is OK if a function is just 1-line! Why? In the future you might expand it a bit, e.g. to check the inputs, handle missing values, add extra inputs to the function. Don't think: \"It's just one line; why bother?\". If you suspect you will reuse the idea of that 1 line in several places, rather put it in a function.\n",
    "6. Return something from your function. It is not mandatory, but it is clearer. Even ```return True``` is a good signal to the user, to indicate the function did it's work successfully.\n",
    "\n"
   ]
  },
  {
   "cell_type": "code",
   "execution_count": null,
   "metadata": {},
   "outputs": [],
   "source": []
  },
  {
   "cell_type": "markdown",
   "metadata": {},
   "source": [
    "## Functions: one input, one output\n",
    "\n",
    "1. In [module 1](http://yint.org/pybasic01#Last-exercises) we considered the problem where the population of a country could be approximated by the formula $$p(t) = \\dfrac{197273000}{1+e^{− 0.03134(t − 1913)}}$$ where $t$ was the time, measured in years.\n",
    "\n",
    " Write a function which accepts that value $t$ as an input, and returns the population size $p(t)$ as output.\n",
    " \n",
    " \n",
    "2. That was (or should have been) a short 1-line function. Now expand your function to check that $t$ is a numeric value. If $t$ is numeric, then return $p(t)$, else return ``None``. You should use: ``isinstance(t, (float, int))``. \n",
    "\n",
    " Don't just copy/paste that: what does ``ininstance`` do? Use ``help(isinstance)`` to understand.\n",
    "\n",
    "\n",
    "3. Finally expand the function once more, to ensure that $t$ is larger than 1913. If not, return ``NaN`` (not a number), which you can obtain either from the NumPy library ``np.nan``, or use the built-in NaN: ``float('nan')``."
   ]
  },
  {
   "cell_type": "code",
   "execution_count": null,
   "metadata": {},
   "outputs": [],
   "source": []
  },
  {
   "cell_type": "markdown",
   "metadata": {},
   "source": [
    "## Functions: one input, two outputs\n",
    "\n",
    "Remember you can make your function provide:\n",
    "* no output: ``return`` or more explicitly ``return None``\n",
    "* one output: ``return answer``\n",
    "* more than one output: ``return (value_one, object_two, object_three)``\n",
    "\n",
    "That way we use a ``tuple`` to create a single grouped output. Recall for [module 1](http://yint.org/pybasic01#Creating-variables) where we saw you can create multiple variables in one line of code: ``a, b, c = (1, 2, 3)``.\n",
    "\n",
    "In the same way you can make your function return multiple outputs and assign them. This code shows how the function is created and then used:\n",
    "\n",
    "```python \n",
    "def calculate_summary_statistics(vector):\n",
    "    \"\"\"Calculates the mean, median, standard deviation and MAD.\"\"\"\n",
    "    # code goes here\n",
    "    \n",
    "    return (mean, median, stddev, mad)\n",
    "    \n",
    "x = ... # a NumPy vector\n",
    "x_avg, x_median, x_std, x_mad = calculate_summary_statistics(x)\n",
    "```\n",
    "\n",
    "The tuple output from the function is split across the 4 output variables."
   ]
  },
  {
   "cell_type": "markdown",
   "metadata": {},
   "source": [
    "**Complete the above code** that will accept a NumPy *vector* and return those 4 outputs:\n",
    "\n",
    "* the mean\n",
    "* the standard deviation\n",
    "* the median [a robust mean]\n",
    "* the median absolute deviation (MAD) [a robust standard deviation]\n",
    " \n",
    "You might need this definition for MAD: it is the median of the absolute deviations from the median: $$ \\text{median} ( \\| x - \\text{median}(x)\\|)$$\n",
    " \n",
    "First calculate the median, then the deviations from the median, then the absolute value, then the median of that.\n",
    "\n",
    "Test it on this vector to understand the usefulness of the median and MAD:\n",
    "```python\n",
    "x = [6, 9, 5, 6, 3, 8, 5, 72, 9, 6, 6, 7, 8, 0]\n",
    "```\n",
    " "
   ]
  },
  {
   "cell_type": "markdown",
   "metadata": {},
   "source": [
    " The function should accept the array as the first input, and an optional second input, ``axis``, which will calculate the statistics along the specified axis, if that input is given. Take a look at the function ***signature*** for ``np.mean(...)`` to get an idea how to do this."
   ]
  },
  {
   "cell_type": "code",
   "execution_count": null,
   "metadata": {},
   "outputs": [],
   "source": []
  },
  {
   "cell_type": "code",
   "execution_count": null,
   "metadata": {},
   "outputs": [],
   "source": []
  },
  {
   "cell_type": "markdown",
   "metadata": {},
   "source": [
    "<img src=\"images/general/Crystal_Clear_action_db_commit.png\" style=\"width: 100px ; float:left\"/> <br><br>Wrap up this section by committing all your work. Have you used a good commit message? Push your work, to refer to later, but also as a backup."
   ]
  },
  {
   "cell_type": "markdown",
   "metadata": {},
   "source": [
    ">***Feedback and comments about this worksheet?***\n",
    "> Please provide any anonymous [comments, feedback and tips](https://docs.google.com/forms/d/1Fpo0q7uGLcM6xcLRyp4qw1mZ0_igSUEnJV6ZGbpG4C4/edit)."
   ]
  },
  {
   "cell_type": "code",
   "execution_count": null,
   "metadata": {},
   "outputs": [],
   "source": [
    "# IGNORE this. Execute this cell to load the notebook's style sheet.\n",
    "from IPython.core.display import HTML\n",
    "css_file = './images/style.css'\n",
    "HTML(open(css_file, \"r\").read())"
   ]
  },
  {
   "cell_type": "code",
   "execution_count": null,
   "metadata": {},
   "outputs": [],
   "source": []
  }
 ],
 "metadata": {
  "hide_input": false,
  "kernelspec": {
   "display_name": "Python [default]",
   "language": "python",
   "name": "python3"
  },
  "language_info": {
   "codemirror_mode": {
    "name": "ipython",
    "version": 3
   },
   "file_extension": ".py",
   "mimetype": "text/x-python",
   "name": "python",
   "nbconvert_exporter": "python",
   "pygments_lexer": "ipython3",
   "version": "3.5.5"
  },
  "toc": {
   "base_numbering": 1,
   "nav_menu": {},
   "number_sections": true,
   "sideBar": true,
   "skip_h1_title": true,
   "title_cell": "Table of Contents",
   "title_sidebar": "Contents",
   "toc_cell": true,
   "toc_position": {
    "height": "calc(100% - 180px)",
    "left": "10px",
    "top": "150px",
    "width": "222px"
   },
   "toc_section_display": true,
   "toc_window_display": true
  }
 },
 "nbformat": 4,
 "nbformat_minor": 2
}
