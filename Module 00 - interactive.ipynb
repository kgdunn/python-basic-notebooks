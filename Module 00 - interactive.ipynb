{
 "cells": [
  {
   "cell_type": "markdown",
   "metadata": {},
   "source": []
  },
  {
   "cell_type": "markdown",
   "metadata": {},
   "source": [
    "# Printing\n",
    "\n",
    "* The ``print(...)`` function sends output to the screen. It is useful for debugging. \n",
    "* What is the equivalent way to do it in MATLAB, or in Java, or another language that you know? MATLAB users: what is the key difference?\n",
    "* The ``print(...)`` function can use \"strings\" or 'strings', in other words with single or double quotes.\n",
    "* Print the following text to the screen:\n",
    "    \n",
    "> My DNA is made of 4 letters: A, G, T and C. Isn't that awesome?!"
   ]
  },
  {
   "cell_type": "code",
   "execution_count": null,
   "metadata": {},
   "outputs": [],
   "source": []
  },
  {
   "cell_type": "markdown",
   "metadata": {},
   "source": [
    "```python\n",
    "long_string = \"\"\"If you really want to write paragraphs,\n",
    "and paragraphs of text, you do it with the triple quotes. Try it\"\"\"\n",
    "```\n",
    "\n",
    "Verify how the above variable ``long_string`` will be printed. Does Python put a line break where you expect it?"
   ]
  },
  {
   "cell_type": "code",
   "execution_count": null,
   "metadata": {},
   "outputs": [],
   "source": []
  },
  {
   "cell_type": "markdown",
   "metadata": {},
   "source": [
    "You can also create longer strings in Python using the bracket construction. Try this:\n",
    "\n",
    "```python\n",
    "print('Here is my first line.',\n",
    "      'Then the second.',\n",
    "      'And finally a third.',\n",
    "      'But did you expect that?')\n",
    "```\n",
    "The reason for this is stylistic. Python, unlike other languages, has some recommended rules, \n",
    "which we will introduce throughout. One of these rules is that you don't exceed 79 characters per line.\n",
    "It helps to keep your code width narrow: you can then put two or three code files side-by-side on a widescreen monitor.\n"
   ]
  },
  {
   "cell_type": "code",
   "execution_count": 16,
   "metadata": {},
   "outputs": [
    {
     "name": "stdout",
     "output_type": "stream",
     "text": [
      "Here is my first line. Then the second. And finally a third\n"
     ]
    }
   ],
   "source": [
    "print('Here is my first line.',\n",
    "      'Then the second.',\n",
    "      'And finally a third')"
   ]
  },
  {
   "cell_type": "code",
   "execution_count": null,
   "metadata": {},
   "outputs": [],
   "source": []
  },
  {
   "cell_type": "markdown",
   "metadata": {},
   "source": [
    "Python also has escape characters. Discover it:\n",
    "* Try to print just the backslash character on its own: `print('\\')`\n",
    "* Try this instead: `print('\\\\')`\n",
    "\n",
    "The \"\\\\\" on its own is an *escape character*. Google that term. \n",
    "What are the escape characters for:\n",
    "* a tab?\n",
    "* a new line?"
   ]
  },
  {
   "cell_type": "markdown",
   "metadata": {},
   "source": []
  },
  {
   "cell_type": "markdown",
   "metadata": {},
   "source": [
    "1. Try to print this: ``print('The files are in C:\\Data\\dirnew\\excel')``.\n",
    "2. Try to print this: ``print('The files are in C:\\temp\\newdir\\excel')``.\n",
    "\n",
    "> Why does it create such an unexpected mess?\n",
    ">\n",
    "> Fix the code to show what is intended."
   ]
  },
  {
   "cell_type": "code",
   "execution_count": null,
   "metadata": {},
   "outputs": [],
   "source": []
  },
  {
   "cell_type": "code",
   "execution_count": null,
   "metadata": {},
   "outputs": [],
   "source": []
  },
  {
   "cell_type": "code",
   "execution_count": null,
   "metadata": {},
   "outputs": [],
   "source": []
  },
  {
   "cell_type": "code",
   "execution_count": null,
   "metadata": {},
   "outputs": [],
   "source": []
  },
  {
   "cell_type": "markdown",
   "metadata": {},
   "source": [
    "Explain to your partner that you are working with what the benefit of writing your code in Python files is.\n",
    "\n"
   ]
  }
 ],
 "metadata": {
  "kernelspec": {
   "display_name": "Python [conda env:anaconda]",
   "language": "python",
   "name": "conda-env-anaconda-py"
  },
  "language_info": {
   "codemirror_mode": {
    "name": "ipython",
    "version": 3
   },
   "file_extension": ".py",
   "mimetype": "text/x-python",
   "name": "python",
   "nbconvert_exporter": "python",
   "pygments_lexer": "ipython3",
   "version": "3.5.5"
  },
  "toc": {
   "base_numbering": 1,
   "nav_menu": {},
   "number_sections": true,
   "sideBar": true,
   "skip_h1_title": true,
   "title_cell": "Table of Contents",
   "title_sidebar": "Contents",
   "toc_cell": false,
   "toc_position": {},
   "toc_section_display": true,
   "toc_window_display": false
  }
 },
 "nbformat": 4,
 "nbformat_minor": 2
}
