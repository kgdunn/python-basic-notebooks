{
 "cells": [
  {
   "cell_type": "markdown",
   "metadata": {
    "toc": true
   },
   "source": [
    "<h1>Table of Contents<span class=\"tocSkip\"></span></h1>\n",
    "<div class=\"toc\"><ul class=\"toc-item\"><li><span><a href=\"#More-plots-with-Pandas\" data-toc-modified-id=\"More-plots-with-Pandas-1\"><span class=\"toc-item-num\">1&nbsp;&nbsp;</span>More plots with Pandas</a></span><ul class=\"toc-item\"><li><span><a href=\"#Recap:-boxplot\" data-toc-modified-id=\"Recap:-boxplot-1.1\"><span class=\"toc-item-num\">1.1&nbsp;&nbsp;</span>Recap: boxplot</a></span></li><li><span><a href=\"#Recap:-histogram\" data-toc-modified-id=\"Recap:-histogram-1.2\"><span class=\"toc-item-num\">1.2&nbsp;&nbsp;</span>Recap: histogram</a></span></li></ul></li><li><span><a href=\"#Learn-about-filtering-and-grouping-using-the-Blender-Efficiency-dataset\" data-toc-modified-id=\"Learn-about-filtering-and-grouping-using-the-Blender-Efficiency-dataset-2\"><span class=\"toc-item-num\">2&nbsp;&nbsp;</span>Learn about filtering and grouping using the Blender Efficiency dataset</a></span></li><li><span><a href=\"#Keeping-Conda-up-to-date-and-installing-new-packages\" data-toc-modified-id=\"Keeping-Conda-up-to-date-and-installing-new-packages-3\"><span class=\"toc-item-num\">3&nbsp;&nbsp;</span>Keeping Conda up to date and installing new packages</a></span><ul class=\"toc-item\"><li><span><a href=\"#Installing-a-new-package-in-your-virtual-environment\" data-toc-modified-id=\"Installing-a-new-package-in-your-virtual-environment-3.1\"><span class=\"toc-item-num\">3.1&nbsp;&nbsp;</span>Installing a new package in your virtual environment</a></span></li><li><span><a href=\"#Updating-an-existing-package\" data-toc-modified-id=\"Updating-an-existing-package-3.2\"><span class=\"toc-item-num\">3.2&nbsp;&nbsp;</span>Updating an existing package</a></span></li></ul></li></ul></div>"
   ]
  },
  {
   "cell_type": "markdown",
   "metadata": {},
   "source": [
    "> All content here is under a Creative Commons Attribution [CC-BY 4.0](https://creativecommons.org/licenses/by/4.0/) and all source code is released under a [BSD-2 clause license](https://en.wikipedia.org/wiki/BSD_licenses).\n",
    ">\n",
    ">Please reuse, remix, revise, and [reshare this content](https://github.com/kgdunn/python-basic-notebooks) in any way, keeping this notice."
   ]
  },
  {
   "cell_type": "markdown",
   "metadata": {},
   "source": [
    "# Course overview\n",
    "\n",
    "This is the fourth module of several (11, 12, 13, 14, 15 and 16), which refocuses the course material in the [prior 10  modules](https://github.com/kgdunn/python-basic-notebooks) in a slightly different way. It places more emphasis on\n",
    "\n",
    "* dealing with data: importing, merging, filtering;\n",
    "* calculations from the data;\n",
    "* visualization of it.\n",
    "\n",
    "In short: ***how to extract value from your data***.\n"
   ]
  },
  {
   "cell_type": "markdown",
   "metadata": {},
   "source": [
    "# Module 14 Overview\n",
    "\n",
    "In this module we will cover\n",
    "\n",
    "* More plots with Pandas\n",
    "* Plotting with the Seaborn library\n",
    "* Using the .loc and .iloc functions for a data frame\n",
    "* Filtering and grouping data\n",
    "\n",
    "**Requirements before starting**\n",
    "\n",
    "* Have your Python installation working as you had for modules 11 and 12, and also the Pandas library installed."
   ]
  },
  {
   "cell_type": "markdown",
   "metadata": {},
   "source": [
    "## More plots with Pandas\n",
    "\n",
    "In the [prior module](https://yint.org/pybasic13) you learned about box plots, histogram plot, time-series (or sequence) plots, and scatter plots. We will revise some of those, and build on that knowledge a bit further.\n",
    "\n",
    "Let's use t"
   ]
  },
  {
   "cell_type": "markdown",
   "metadata": {},
   "source": [
    "### Recap: boxplot\n",
    "\n"
   ]
  },
  {
   "cell_type": "code",
   "execution_count": null,
   "metadata": {},
   "outputs": [],
   "source": []
  },
  {
   "cell_type": "markdown",
   "metadata": {},
   "source": [
    "### Recap: histogram"
   ]
  },
  {
   "cell_type": "code",
   "execution_count": null,
   "metadata": {},
   "outputs": [],
   "source": [
    "import pandas as pd\n",
    "blender = pd.read_csv('http://openmv.net/file/blender-efficiency.csv')\n",
    "blender.hist()"
   ]
  },
  {
   "cell_type": "code",
   "execution_count": null,
   "metadata": {},
   "outputs": [],
   "source": []
  },
  {
   "cell_type": "markdown",
   "metadata": {},
   "source": [
    "### Recap: sequence plot"
   ]
  },
  {
   "cell_type": "code",
   "execution_count": null,
   "metadata": {},
   "outputs": [],
   "source": [
    "blender[\"BlendingEfficiency\"].plot.line()\n",
    "\n",
    "flot.plot.line()"
   ]
  },
  {
   "cell_type": "code",
   "execution_count": null,
   "metadata": {},
   "outputs": [],
   "source": [
    "flot.loc[:, [\"Upstream pH\", \"CuSO4 added\"]].plot.line(figsize=(15,10))"
   ]
  },
  {
   "cell_type": "code",
   "execution_count": null,
   "metadata": {},
   "outputs": [],
   "source": []
  },
  {
   "cell_type": "code",
   "execution_count": null,
   "metadata": {},
   "outputs": [],
   "source": [
    "flot = pd.read_csv(\"https://openmv.net/file/flotation-cell.csv\")\n",
    "\n",
    "display(flot[\"Date and time\"].head())\n",
    "\n",
    "\n",
    "flot[\"Timestamp\"] = pd.to_datetime(flot[\"Date and time\"])\n",
    "flot=flot.set_index(\"Timestamp\")\n",
    "flot.plot.hist(stacked=True, bins=50)\n",
    "flot.describe()"
   ]
  },
  {
   "cell_type": "code",
   "execution_count": null,
   "metadata": {},
   "outputs": [],
   "source": []
  },
  {
   "cell_type": "code",
   "execution_count": null,
   "metadata": {},
   "outputs": [],
   "source": []
  },
  {
   "cell_type": "code",
   "execution_count": null,
   "metadata": {},
   "outputs": [],
   "source": []
  },
  {
   "cell_type": "code",
   "execution_count": null,
   "metadata": {},
   "outputs": [],
   "source": [
    "flot.corr()"
   ]
  },
  {
   "cell_type": "code",
   "execution_count": null,
   "metadata": {},
   "outputs": [],
   "source": [
    "flot.plot.hexbin(x=\"Pulp level\", y=\"CuSO4 added\", gridsize= 20,reduce_C_function=np.min,cmap = 'viridis')\n",
    "#ax.set_xlabel(\"Feed rate in kg/hr\");"
   ]
  },
  {
   "cell_type": "code",
   "execution_count": null,
   "metadata": {},
   "outputs": [],
   "source": []
  },
  {
   "cell_type": "code",
   "execution_count": null,
   "metadata": {},
   "outputs": [],
   "source": [
    "from pandas.plotting import scatter_matrix\n",
    "scatter_matrix(flot, alpha = 0.2, figsize=(10, 8), diagonal = 'kde');"
   ]
  },
  {
   "cell_type": "code",
   "execution_count": null,
   "metadata": {},
   "outputs": [],
   "source": []
  },
  {
   "cell_type": "code",
   "execution_count": null,
   "metadata": {},
   "outputs": [],
   "source": []
  },
  {
   "cell_type": "code",
   "execution_count": null,
   "metadata": {},
   "outputs": [],
   "source": []
  },
  {
   "cell_type": "code",
   "execution_count": null,
   "metadata": {},
   "outputs": [],
   "source": []
  },
  {
   "cell_type": "code",
   "execution_count": null,
   "metadata": {},
   "outputs": [],
   "source": [
    "df=pd.read_csv(\"https://openmv.net/file/kamyr-digester.csv\")\n",
    "df[\"Observation\"].to_list()\n",
    "\n",
    "#help(pd.to_datetime)\n",
    "from datetime import datetime\n",
    "\n",
    "\n",
    "df[\"Timestep\"]=pd.to_datetime(df[\"Observation\"], format=\"%d-%H:%M\")\n",
    "df= df.set_index(\"Timestep\")\n",
    "scatter_matrix(df, alpha = 0.2, figsize=(20,20), diagonal = 'kde');"
   ]
  },
  {
   "cell_type": "code",
   "execution_count": null,
   "metadata": {},
   "outputs": [],
   "source": [
    "scatter_matrix?"
   ]
  },
  {
   "cell_type": "code",
   "execution_count": null,
   "metadata": {},
   "outputs": [],
   "source": [
    "cheese = pd.read_csv(\"https://openmv.net/file/cheddar-cheese.csv\")\n",
    "cheese=cheese.drop(\"Case\", axis=1)\n",
    "scatter_matrix(cheese, alpha = 0.8, figsize=(20,20), diagonal = 'hist', marker='s');"
   ]
  },
  {
   "cell_type": "code",
   "execution_count": null,
   "metadata": {},
   "outputs": [],
   "source": []
  },
  {
   "cell_type": "code",
   "execution_count": null,
   "metadata": {},
   "outputs": [],
   "source": []
  },
  {
   "cell_type": "markdown",
   "metadata": {},
   "source": [
    "## Learn about filtering and grouping using the Blender Efficiency dataset\n",
    "\n",
    "* Import data.\n",
    "* Table\n",
    "* Sort by y-value (last column)\n",
    "* What is related to it?\n",
    "* Is a boxplot useful?\n",
    "* Corr matrix\n",
    "* scatter_matrix(blender, alpha = 0.8, figsize=(20,20), diagonal = 'hist', marker='s'); <-- shows the DoE structure\n",
    "* Filter results by Particle Size\n",
    "* Groupby ParticleSize\n",
    "* Calculate the mean efficiency within each particle size category\n"
   ]
  },
  {
   "cell_type": "code",
   "execution_count": null,
   "metadata": {},
   "outputs": [],
   "source": [
    "import pandas as pd\n",
    "blender = pd.read_csv('http://openmv.net/file/blender-efficiency.csv')\n",
    "blender.corr()\n",
    "scatter_matrix(blender, alpha = 0.8, figsize=(20,20), diagonal = 'hist', marker='s');\n",
    "\n",
    "blender.groupby(\"ParticleSize\").std()\n",
    "\n",
    "#blender.boxplot()\n",
    "#blender.sort_values('BlendingEfficiency', inplace=True)\n",
    "#blender.hist(figsize=(20,20))\n",
    "#flot.loc[:, [\"Air flow rate\"]].boxplot()"
   ]
  },
  {
   "cell_type": "markdown",
   "metadata": {},
   "source": [
    "# Diversion: how is time represented?\n",
    "\n",
    "Try the following in the space below:\n",
    "```python\n",
    "from datetime import datetime\n",
    "now = datetime.now()\n",
    "\n",
    "# Do some things with `now`:\n",
    "print(now)\n",
    "print(now.year)\n",
    "print(f\"Which weekday is it today? It is day: {now.isoweekday()} in the week\")\n",
    "print(now.second)\n",
    "print(now.seconds) # use singular\n",
    "```\n",
    "\n"
   ]
  },
  {
   "cell_type": "code",
   "execution_count": null,
   "metadata": {},
   "outputs": [],
   "source": []
  },
  {
   "cell_type": "markdown",
   "metadata": {},
   "source": [
    "After trying the above, try these lines below. Comment out the lines that cause errors.\n",
    "\n",
    "```python\n",
    "later = datetime.now()\n",
    "print(later)\n",
    "print(type(later))\n",
    "print(later - now)\n",
    "print(now - later) \n",
    "print(now + later)\n",
    "\n",
    "delta = later - now\n",
    "print(delta)\n",
    "print(type(delta))\n",
    "print(f\"There were this many seconds between 'now' and 'later': {delta.total_seconds()}\")\n",
    "print(later + delta)\n",
    "\n",
    "sometime_in_the_future = later + delta*1000\n",
    "print(sometime_in_the_future)\n",
    "print(sometime_in_the_future - now)\n",
    "```"
   ]
  },
  {
   "cell_type": "code",
   "execution_count": null,
   "metadata": {},
   "outputs": [],
   "source": [
    "\n",
    "delta = later - now\n",
    "print(delta)\n",
    "print(type(delta))\n",
    "print(f\"There were this many seconds between 'now' and 'later': {delta.total_seconds()}\")\n",
    "print(later + delta)\n",
    "\n",
    "sometime_in_the_future = later + delta*1000\n",
    "print(sometime_in_the_future)\n",
    "print(sometime_in_the_future - now)"
   ]
  },
  {
   "attachments": {
    "image.png": {
     "image/png": "[encoded data removed]"
    }
   },
   "cell_type": "markdown",
   "metadata": {},
   "source": [
    "https://realpython.com/pandas-dataframe/#working-with-time-series\n",
    "• (outfile[\"Start_datetime\"] - outfile[\"Start_datetime_first\"]).apply(lambda x: x.total_seconds() / 60.0 / 60 /24)\n",
    "![image.png](attachment:image.png)\n",
    "\n",
    "temp_c = [ 8.0,  7.1,  6.8,  6.4,  6.0,  5.4,  4.8,  5.0,\n",
    "...            9.1, 12.8, 15.3, 19.1, 21.2, 22.1, 22.4, 23.1,\n",
    "...           21.0, 17.9, 15.5, 14.4, 11.9, 11.0, 10.2,  9.1]\n",
    "Now you have the variable temp_c, which refers to the list of temperature values.\n",
    "\n",
    "The next step is to create a sequence of dates and times. Pandas provides a very convenient function, date_range(), for this purpose:\n",
    "\n",
    ">>> dt = pd.date_range(start='2019-10-27 00:00:00.0', periods=24,\n",
    "...                    freq='H')\n",
    ">>> dt\n",
    "DatetimeIndex(['2019-10-27 00:00:00', '2019-10-27 01:00:00',\n",
    "               '2019-10-27 02:00:00', '2019-10-27 03:00:00',\n",
    "               '2019-10-27 04:00:00', '2019-10-27 05:00:00',\n",
    "               '2019-10-27 06:00:00', '2019-10-27 07:00:00',\n",
    "               '2019-10-27 08:00:00', '2019-10-27 09:00:00',\n",
    "               '2019-10-27 10:00:00', '2019-10-27 11:00:00',\n",
    "               '2019-10-27 12:00:00', '2019-10-27 13:00:00',\n",
    "               '2019-10-27 14:00:00', '2019-10-27 15:00:00',\n",
    "               '2019-10-27 16:00:00', '2019-10-27 17:00:00',\n",
    "               '2019-10-27 18:00:00', '2019-10-27 19:00:00',\n",
    "               '2019-10-27 20:00:00', '2019-10-27 21:00:00',\n",
    "               '2019-10-27 22:00:00', '2019-10-27 23:00:00'],\n",
    "              dtype='datetime64[ns]', freq='H')\n",
    "              "
   ]
  },
  {
   "cell_type": "code",
   "execution_count": null,
   "metadata": {},
   "outputs": [],
   "source": []
  },
  {
   "cell_type": "markdown",
   "metadata": {},
   "source": [
    "## Keeping Conda up to date and installing new packages\n",
    "\n",
    "Newer versions of packages are released frequently. You can update your packages (libraries), with this command::\n",
    "```bash\n",
    "\n",
    "    conda update -n base conda\n",
    "    conda update --all\n",
    "```\n",
    "\n",
    "### Installing a new package in your virtual environment\n",
    "\n",
    "You will come across people recommending different packages in Python for all sorts of interesting applications. For example, the library `seaborn` is often recommended for visualization. But you might not have it installed yet. \n",
    "\n",
    "This is how you can install the package called `seaborn` in your virtual environment called ``myenv``:\n",
    "```bash\n",
    "    conda activate myenv    <--- change the last word in the command to the name of your actual environment\n",
    "    pip install seaboard\n",
    "```\n",
    "\n",
    "Or in one line:\n",
    "```bash\n",
    "    conda install -n myenv seaborn\n",
    "```\n",
    "\n",
    "\n",
    "### Updating an existing package\n",
    "\n",
    "Similar to the above, you can update a package to the latest version. Just change ``install`` to ``update`` instead.\n",
    "Or in one line:\n",
    "```bash\n",
    "    conda update -n myenv seaborn\n",
    "```"
   ]
  },
  {
   "cell_type": "code",
   "execution_count": null,
   "metadata": {},
   "outputs": [],
   "source": []
  },
  {
   "cell_type": "code",
   "execution_count": null,
   "metadata": {},
   "outputs": [],
   "source": [
    "# IGNORE this. Execute this cell to load the notebook's style sheet.\n",
    "from IPython.core.display import HTML\n",
    "css_file = './images/style.css'\n",
    "HTML(open(css_file, \"r\").read())"
   ]
  }
 ],
 "metadata": {
  "hide_input": false,
  "kernelspec": {
   "display_name": "Python 3",
   "language": "python",
   "name": "python3"
  },
  "language_info": {
   "codemirror_mode": {
    "name": "ipython",
    "version": 3
   },
   "file_extension": ".py",
   "mimetype": "text/x-python",
   "name": "python",
   "nbconvert_exporter": "python",
   "pygments_lexer": "ipython3",
   "version": "3.7.9"
  },
  "toc": {
   "base_numbering": "1",
   "nav_menu": {},
   "number_sections": true,
   "sideBar": true,
   "skip_h1_title": true,
   "title_cell": "Table of Contents",
   "title_sidebar": "Contents",
   "toc_cell": true,
   "toc_position": {
    "height": "calc(100% - 180px)",
    "left": "10px",
    "top": "150px",
    "width": "348.984px"
   },
   "toc_section_display": true,
   "toc_window_display": true
  },
  "varInspector": {
   "cols": {
    "lenName": 16,
    "lenType": 16,
    "lenVar": 40
   },
   "kernels_config": {
    "python": {
     "delete_cmd_postfix": "",
     "delete_cmd_prefix": "del ",
     "library": "var_list.py",
     "varRefreshCmd": "print(var_dic_list())"
    },
    "r": {
     "delete_cmd_postfix": ") ",
     "delete_cmd_prefix": "rm(",
     "library": "var_list.r",
     "varRefreshCmd": "cat(var_dic_list()) "
    }
   },
   "types_to_exclude": [
    "module",
    "function",
    "builtin_function_or_method",
    "instance",
    "_Feature"
   ],
   "window_display": false
  }
 },
 "nbformat": 4,
 "nbformat_minor": 2
}
