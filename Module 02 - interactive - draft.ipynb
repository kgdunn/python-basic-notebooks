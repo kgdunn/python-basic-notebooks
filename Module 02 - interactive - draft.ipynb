{
 "cells": [
  {
   "cell_type": "markdown",
   "metadata": {
    "toc": true
   },
   "source": [
    "<h1>Table of Contents<span class=\"tocSkip\"></span></h1>\n",
    "<div class=\"toc\"><ul class=\"toc-item\"></ul></div>"
   ]
  },
  {
   "cell_type": "markdown",
   "metadata": {},
   "source": [
    "# Python Collections (Arrays)\n",
    "\n",
    "There are four collection data types in the Python programming language:\n",
    "\n",
    "- List is a collection which is ordered and changeable. Allows duplicate members.\n",
    "- Tuple is a collection which is ordered and unchangeable. Allows duplicate members.\n",
    "- Set is a collection which is unordered and unindexed. No duplicate members.\n",
    "- Dictionary is a collection which is unordered, changeable and indexed. No duplicate members.\n"
   ]
  },
  {
   "cell_type": "code",
   "execution_count": 52,
   "metadata": {},
   "outputs": [
    {
     "name": "stdout",
     "output_type": "stream",
     "text": [
      "Is aspergillus in my list? True\n",
      "Aspergillus index is: 2\n",
      "Last element in the list is: aspergillus\n",
      "Last three elements: ['chimp', 'bacillus', 'aspergillus']\n",
      "Number of wrong elements: 1\n",
      "Number of wrong elements: 0\n",
      "[2, 4, 8, 16, 32, 64, 128, 256, 512, 1024]\n"
     ]
    }
   ],
   "source": [
    "# Initialize a list with elements:\n",
    "# 'yeast', 'aspergillus' and 'bacillus'\n",
    "micros = ['yeast', 'bacillus', 'aspergillus']\n",
    "\n",
    "# Test if yarrowia is  in \n",
    "# the list with the 'in' statment\n",
    "print(\"Is aspergillus in my list? {}\".format('aspergillus' in micros))\n",
    "\n",
    "# Now create another list called 'primates' with \n",
    "# 'human' and 'chimp' called \n",
    "primates = ['human', 'chimp']\n",
    "\n",
    "# Construct a new list with both the micros \n",
    "# and the primates called species \n",
    "# using the '+' operator\n",
    "species = micros + primates\n",
    "\n",
    "# grow the 'species' list with single element 'cow' \n",
    "# without making a new list object, \n",
    "# i.e. grow the list using the 'append' function\n",
    "species.append('cow')\n",
    "\n",
    "# Create another list called 'reptiles'\n",
    "# containing 'crocodile' and 'turtle'\n",
    "reptiles = ['crocodile', 'turtle']\n",
    "\n",
    "# Grow the species list with the reptiles\n",
    "# using the 'extend' function\n",
    "# 'extend' appends the whole reptiles list to species\n",
    "species.extend(reptiles)\n",
    "\n",
    "# Now print the index of 'aspergillus' in the species\n",
    "print(\"Aspergillus index is: {}\".format(species.index('aspergillus')))\n",
    "\n",
    "# let's sort the list 'species' using the 'sort' function\n",
    "species.sort()\n",
    "\n",
    "# Reverse all elements in the list using the 'reverse' function\n",
    "species.reverse()\n",
    "\n",
    "# Indexing list can be done from the beginning, \n",
    "# but also from the end using negative integers\n",
    "# Print the last element in the list\n",
    "print(\"Last element in the list is: {}\".format(species[-1]))\n",
    "\n",
    "# Now use negative indexing to print the last three elements of the list\n",
    "print(\"Last three elements: {}\".format(species[-3:]))\n",
    "\n",
    "\n",
    "# CAUTION! You cannot copy a list simply by typing species2 = species, \n",
    "# because: species2 will only be a reference to list1, \n",
    "# and changes made in species will automatically also be made in species2\n",
    "species2 = species\n",
    "species2.append('wrong')\n",
    "\n",
    "# Count number od 'wrong' elements in the \n",
    "# 'species list using the 'count' function\n",
    "print(\"Number of wrong elements: {}\".format(species.count('wrong')))\n",
    "\n",
    "# Let's remove this erroneously added entry from species\n",
    "# using the 'pop' function (defaults to removing the last element)\n",
    "species.pop()\n",
    "\n",
    "# to prevent unwanting referencing, use 'copy'\n",
    "# to make a new list object containing the same content\n",
    "species2 = species.copy()\n",
    "species2.append('wrong')\n",
    "\n",
    "# Again Count number of 'wrong' elements in the \n",
    "# 'species list using the 'count' function\n",
    "# Now it is not there anymore\n",
    "print(\"Number of wrong elements: {}\".format(species.count('wrong')))\n",
    "\n",
    "# Make a list with first 10 elements of the \n",
    "# multiplication table of 2 (tafel van 2)\n",
    "# using \"Python list comprehension\"\n",
    "print([2**x for x in range(1,11)])\n",
    "\n",
    "\n",
    "\n"
   ]
  },
  {
   "cell_type": "code",
   "execution_count": 11,
   "metadata": {},
   "outputs": [
    {
     "name": "stdout",
     "output_type": "stream",
     "text": [
      "['yeast', 'aspergillus', 'bacillus', 'yarrowia']\n"
     ]
    }
   ],
   "source": []
  },
  {
   "cell_type": "code",
   "execution_count": 9,
   "metadata": {},
   "outputs": [
    {
     "name": "stdout",
     "output_type": "stream",
     "text": [
      "['yeast', 'yarrowia', 'bacillus']\n"
     ]
    }
   ],
   "source": []
  }
 ],
 "metadata": {
  "kernelspec": {
   "display_name": "Python [default]",
   "language": "python",
   "name": "python3"
  },
  "language_info": {
   "codemirror_mode": {
    "name": "ipython",
    "version": 3
   },
   "file_extension": ".py",
   "mimetype": "text/x-python",
   "name": "python",
   "nbconvert_exporter": "python",
   "pygments_lexer": "ipython3",
   "version": "3.5.5"
  },
  "toc": {
   "base_numbering": 1,
   "nav_menu": {},
   "number_sections": true,
   "sideBar": true,
   "skip_h1_title": true,
   "title_cell": "Table of Contents",
   "title_sidebar": "Contents",
   "toc_cell": true,
   "toc_position": {},
   "toc_section_display": true,
   "toc_window_display": false
  }
 },
 "nbformat": 4,
 "nbformat_minor": 2
}
