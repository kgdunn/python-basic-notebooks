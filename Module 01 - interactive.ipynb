{
 "cells": [
  {
   "cell_type": "markdown",
   "metadata": {},
   "source": [
    "All content here is under a Creative Commons Attribution [CC-BY 4.0](https://creativecommons.org/licenses/by/4.0/) and all source code is released under a [BSD-2 clause license](https://en.wikipedia.org/wiki/BSD_licenses).\n",
    "\n",
    "Please reuse, remix, revise, and reshare this content in any way, keeping this notice."
   ]
  },
  {
   "cell_type": "markdown",
   "metadata": {},
   "source": [
    "This tutorial covers several topics that are important to the beginning Python user, especially if you are coming from using another programming language.\n",
    "\n",
    "1. Printing\n",
    "2. Creating variables\n",
    "3. Using variables in calculations\n",
    "4. Understanding Python's dynamic typing\n"
   ]
  },
  {
   "cell_type": "markdown",
   "metadata": {},
   "source": [
    "# Printing\n",
    "\n",
    "* The ``print(...)`` function sends output to the screen. It is useful for debugging. \n",
    "* What is the equivalent way to do it in MATLAB, or in Java, or another language that you know? MATLAB users: what is the key difference?\n",
    "* The ``print(...)`` function can use \"strings\" or 'strings', in other words with single or double quotes.\n",
    "* Print the following text to the screen:\n",
    "    \n",
    "> My DNA is made of 4 letters: A, G, T and C. Isn't that awesome?!"
   ]
  },
  {
   "cell_type": "code",
   "execution_count": null,
   "metadata": {},
   "outputs": [],
   "source": []
  },
  {
   "cell_type": "markdown",
   "metadata": {},
   "source": [
    "```python\n",
    "long_string = \"\"\"If you really want to write paragraphs,\n",
    "and paragraphs of text, you do it with the triple quotes. Try it\"\"\"\n",
    "\n",
    "print(long_string)\n",
    "```\n",
    "\n",
    "Verify how the above variable ``long_string`` will be printed. Does Python put a line break where you expect it?"
   ]
  },
  {
   "cell_type": "code",
   "execution_count": null,
   "metadata": {},
   "outputs": [],
   "source": []
  },
  {
   "cell_type": "markdown",
   "metadata": {},
   "source": [
    "You can also create longer strings in Python using the bracket construction. Try this:\n",
    "\n",
    "```python\n",
    "print('Here is my first line.',\n",
    "      'Then the second.',\n",
    "      'And finally a third.',\n",
    "      'But did you expect that?')\n",
    "```\n",
    "The reason for this is stylistic. Python, unlike other languages, has some recommended rules, \n",
    "which we will introduce throughout. One of these rules is that you don't exceed 79 characters per line.\n",
    "It helps to keep your code width narrow: you can then put two or three code files side-by-side on a widescreen monitor.\n"
   ]
  },
  {
   "cell_type": "code",
   "execution_count": 16,
   "metadata": {},
   "outputs": [
    {
     "name": "stdout",
     "output_type": "stream",
     "text": [
      "Here is my first line. Then the second. And finally a third\n"
     ]
    }
   ],
   "source": [
    "print('Here is my first line.',\n",
    "      'Then the second.',\n",
    "      'And finally a third')"
   ]
  },
  {
   "cell_type": "code",
   "execution_count": null,
   "metadata": {},
   "outputs": [],
   "source": []
  },
  {
   "cell_type": "markdown",
   "metadata": {},
   "source": [
    "Python also has escape characters. Discover it:\n",
    "* Try to print just the backslash character on its own: `print('\\')`\n",
    "* Try this instead: `print('\\\\')`\n",
    "\n",
    "The \"\\\\\" on its own is an *escape character*. Google that term. \n",
    "What are the escape characters for:\n",
    "* a tab?\n",
    "* a new line?"
   ]
  },
  {
   "cell_type": "code",
   "execution_count": 17,
   "metadata": {
    "collapsed": true
   },
   "outputs": [
    {
     "data": {
      "text/plain": [
       "<function print>"
      ]
     },
     "execution_count": 17,
     "metadata": {},
     "output_type": "execute_result"
    }
   ],
   "source": [
    "print\n"
   ]
  },
  {
   "cell_type": "markdown",
   "metadata": {},
   "source": [
    "1. Try to print this: ``print('The files are in C:\\Data\\dirnew\\excel')``.\n",
    "2. Try to print this: ``print('The files are in C:\\temp\\newdir\\excel')``.\n",
    "\n",
    "> Why does it create such an unexpected mess?\n",
    ">\n",
    "> Fix the code to show what is intended."
   ]
  },
  {
   "cell_type": "code",
   "execution_count": 18,
   "metadata": {},
   "outputs": [],
   "source": []
  },
  {
   "cell_type": "markdown",
   "metadata": {},
   "source": [
    "# Variables\n",
    "\n",
    "\n",
    "We already saw above how a variable was created: ``long_string = \"\"\" .... \"\"\"``.\n",
    "\n",
    "You've done this plenty of times in other programming languages; almost always with an \"=\". What does on the left hand side needs to be a '*valid variable name*'.\n",
    "\n",
    "Which of the following are valid variables, or valid ways to create variables in Python?\n",
    "\n",
    "```python\n",
    "my_integer = 3.1428571  \n",
    "_my_float = 3.1428571     # variables like this have a special use in Python\n",
    "__my_float__ = 3.1428571  # variables like this have a special use in Python\n",
    "€value = 42.95  \n",
    "cost_in_€ = 42.95\n",
    "cost_in_dollars = 42.95  \n",
    "42.95 = cost_in_dollars  \n",
    "cost.in.dollars = 42.95  \n",
    "favourite#tag = '#like4like'\n",
    "favourite_hashtag = '#일상'\n",
    "x = y = z = 1\n",
    "a, b, c = 1, 2, 3\n",
    "a, b, c = (1, 2, 3)\n",
    "i, f, s = 42, 12.94, 'spam'\n",
    "from = 'my lover'\n",
    "raise = 'your glass'\n",
    "pass = 'you shall not'\n",
    "fail = 'you will not'\n",
    "True = 'not False'\n",
    "pay day = 'Thursday'\n",
    "NA = 'not applicable' # for R users\n",
    "a = 42;               # for MATLAB users: semi-colons are never required  \n",
    "A = 13                # like most languages, Python is also case-sensitive  \n",
    "```\n",
    "\n",
    "What's the most interesting idea/concept you learned from this?\n",
    "\n"
   ]
  },
  {
   "cell_type": "code",
   "execution_count": 54,
   "metadata": {},
   "outputs": [
    {
     "ename": "SyntaxError",
     "evalue": "can't assign to keyword (<ipython-input-54-a6e0ef5c46a4>, line 1)",
     "output_type": "error",
     "traceback": [
      "\u001b[0;36m  File \u001b[0;32m\"<ipython-input-54-a6e0ef5c46a4>\"\u001b[0;36m, line \u001b[0;32m1\u001b[0m\n\u001b[0;31m    True = 'not False'\u001b[0m\n\u001b[0m                      ^\u001b[0m\n\u001b[0;31mSyntaxError\u001b[0m\u001b[0;31m:\u001b[0m can't assign to keyword\n"
     ]
    }
   ],
   "source": [
    "True = 'not False'"
   ]
  },
  {
   "cell_type": "markdown",
   "metadata": {},
   "source": [
    "In the software editor you are using, is there a space where you can see the variable's current value? \\[This is called the *Watch* window in most graphical editors\\]"
   ]
  },
  {
   "cell_type": "code",
   "execution_count": null,
   "metadata": {},
   "outputs": [],
   "source": []
  },
  {
   "cell_type": "markdown",
   "metadata": {},
   "source": [
    "# Variable types\n",
    "\n",
    "\n",
    "Each variable you create has a ``type``, which is automatically detected based on what is on the right hand side of the \"=\" sign. This is similar to MATLAB, but very different from C++ where you see this:\n",
    "\n",
    "```c\n",
    "  int a, b;       // first declare your variables\n",
    "  float result;\n",
    "  a = 5;          // then use them\n",
    "  b = 2;\n",
    "  result = a / b;\n",
    "```\n",
    "\n",
    "In Python you have dynamic typing, where you simply write:\n",
    "```python\n",
    "a, b = 5, 2\n",
    "result = a / b\n",
    "```\n",
    "\n",
    "Run those 2 lines of Python code. Then add this below. What is the output you see?\n",
    "```python\n",
    "type(a)\n",
    "type(result)\n",
    "```"
   ]
  },
  {
   "cell_type": "code",
   "execution_count": 69,
   "metadata": {},
   "outputs": [
    {
     "data": {
      "text/plain": [
       "str"
      ]
     },
     "execution_count": 69,
     "metadata": {},
     "output_type": "execute_result"
    }
   ],
   "source": []
  },
  {
   "cell_type": "markdown",
   "metadata": {},
   "source": [
    "Each variable always has a type. Usually you know what it is, because you create the variable. \n",
    "\n",
    "But sometimes you use a function where you get back an answer that you don't know the type. Or, you might need to write code along the lines of:\n",
    "> if variable \"a\" is integer (``int``) do this ... else if it is floating point (``float``), do that ...\n",
    "\n",
    "That is why you need the ``type(...)`` function.\n",
    "\n",
    "Try these lines in Python:\n",
    "\n",
    "```python\n",
    "type(99)\n",
    "type(99.)\n",
    "type(9E9)\n",
    "type('It\\'s raining cats and dogs today!')\n",
    "type(r'Brexit will cost you £8E8. Thank you.')\n",
    "type(['this', 'is', 'a', 'vector', 'of', 7, 'values'])\n",
    "type([])\n",
    "type(4 > 5)\n",
    "type(True)\n",
    "type(False)\n",
    "type(None)\n",
    "type({'this': 'is what is called a', 'dictionary': 'variable!'})\n",
    "type(('this', 'is', 'called', 'a', 'tuple'))\n",
    "type(())\n",
    "type(None)\n",
    "type(print)   # anything that can be assigned to a variable name can be 'type checked'\n",
    "\n",
    "```"
   ]
  },
  {
   "cell_type": "code",
   "execution_count": 77,
   "metadata": {},
   "outputs": [
    {
     "data": {
      "text/plain": [
       "module"
      ]
     },
     "execution_count": 77,
     "metadata": {},
     "output_type": "execute_result"
    }
   ],
   "source": []
  },
  {
   "cell_type": "code",
   "execution_count": null,
   "metadata": {},
   "outputs": [],
   "source": [
    "a=input('asd: ')  # gives a string value to variable 'a'"
   ]
  },
  {
   "cell_type": "markdown",
   "metadata": {},
   "source": [
    "Use if loops later: conditional\n",
    "\n",
    "> < less than\n",
    "> <= less than or equal\n",
    ">  == equal\n",
    "> ~= not equal\n",
    "> > greater than\n",
    "> >= greater than or equal\n",
    "\n",
    "x = 0 < 0.5 < 1\n",
    "\n",
    "\n",
    "\n",
    "ax2 + bx + c = 0\n",
    "has equal roots, given by −b/(2a), provided that b2 − 4ac = 0 and a ̸= 0 (Fig-\n",
    "ure 2.2). This translates into the following MATLAB statements:\n",
    "     if (b ^ 2 - 4*a*c == 0) & (a ~= 0)\n",
    "           x = -b / (2*a);\n",
    "end"
   ]
  },
  {
   "cell_type": "code",
   "execution_count": null,
   "metadata": {},
   "outputs": [],
   "source": [
    "ax^2 + bx + c\n",
    "x=−b+sqrt(b^2−4ac)/2a\n",
    "* For a=3, b=−1, c=2\n",
    "* For a=0, b=−1, c=2; what happens if you reuse your code for the prior line? what should x be?\n",
    "\n"
   ]
  },
  {
   "cell_type": "markdown",
   "metadata": {},
   "source": [
    "\\(s = u * t - \\frac{g}{2} * t^ 2\\)\n",
    "\n",
    "* largest and smallest floating point value\n",
    "* Power\n",
    "* PRecedence \n",
    "1 Parentheses (round brackets)\n",
    "2 Power, left to right\n",
    "3 Multiplication and division, left to right\n",
    "4 Addition and subtraction, left to right\n",
    "\n",
    "Scientific notation: 1.5×10−4+2.5×10−2\n",
    "pi\n",
    "e\n",
    "1/ 2π"
   ]
  },
  {
   "cell_type": "code",
   "execution_count": null,
   "metadata": {},
   "outputs": [],
   "source": [
    "factorial ?\n",
    "x−x3/3!+x5/5!\n",
    "\n"
   ]
  },
  {
   "cell_type": "code",
   "execution_count": null,
   "metadata": {},
   "outputs": [],
   "source": [
    "Divide the sum of a and b by the product of c and d, and store the result in x."
   ]
  },
  {
   "cell_type": "code",
   "execution_count": null,
   "metadata": {},
   "outputs": [],
   "source": [
    "Complex numbers:\n",
    "    "
   ]
  },
  {
   "cell_type": "code",
   "execution_count": null,
   "metadata": {},
   "outputs": [],
   "source": [
    "\n",
    "2.26 It has been suggested that the population of the United States may be modeled by the formula\n",
    "P (t ) = 19 72 73 000\n",
    "1 + e−0.03134(t −1913.25)\n",
    "where t is the date in years. Write a program to compute and display the population every ten years from 1790 to 2000. Try to plot a graph of the population against time as well (Figure 9.16 shows this graph compared\n",
    " 2.A Supplementary material\n",
    "81\n",
    "with actual data). Use your program to find out if the population ever\n",
    "reaches a “steady state” (i.e., stops changing).\n"
   ]
  },
  {
   "cell_type": "markdown",
   "metadata": {},
   "source": [
    "Explain to your partner that you are working with what the benefit of writing your code in Python files is.\n",
    "\n"
   ]
  }
 ],
 "metadata": {
  "kernelspec": {
   "display_name": "Python [conda env:anaconda]",
   "language": "python",
   "name": "conda-env-anaconda-py"
  },
  "toc": {
   "base_numbering": 1,
   "nav_menu": {},
   "number_sections": true,
   "sideBar": true,
   "skip_h1_title": true,
   "title_cell": "Table of Contents",
   "title_sidebar": "Contents",
   "toc_cell": false,
   "toc_position": {},
   "toc_section_display": true,
   "toc_window_display": false
  }
 },
 "nbformat": 4,
 "nbformat_minor": 2
}
