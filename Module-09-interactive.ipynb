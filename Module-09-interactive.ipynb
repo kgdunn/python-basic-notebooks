{
 "cells": [
  {
   "cell_type": "markdown",
   "metadata": {},
   "source": [
    "\n"
   ]
  },
  {
   "cell_type": "markdown",
   "metadata": {},
   "source": [
    "> All content here is under a Creative Commons Attribution [CC-BY 4.0](https://creativecommons.org/licenses/by/4.0/) and all source code is released under a [BSD-2 clause license](https://en.wikipedia.org/wiki/BSD_licenses). \n",
    ">\n",
    ">and inspect the value of ``counts`` and ``bins`` that you get as outpu. What do you think these are? Compare them to the plots above."
   ]
  },
  {
   "cell_type": "code",
   "execution_count": null,
   "metadata": {},
   "outputs": [],
   "source": [
    "# Try the above code here, and interpret the output"
   ]
  },
  {
   "cell_type": "markdown",
   "metadata": {},
   "source": [
    "### Step 6: Communicate your results\n",
    "\n",
    "We need to wrap up our workflow with the final step of communicating our goal: what does the spread of the data looks like?\n",
    "\n",
    "We won't provide a definitive answer, rather, we will give some phrases and sentences below that you might use if you had to write this in a report. ***Which of these are correct***, and ***which are incorrect***?\n",
    "\n",
    "* The grades of the students are uniformly distributed (spread).\n",
    "* The time taken is approximately symmetrically spread, with a center of 190 minutes.\n",
    "* There is long tail observed in the student grades, with a <a href=\"https://www.itl.nist.gov/div898/handbook/eda/section3/histogr6.htm\" target=\"_blank\">tail (skew) to the right</a>.\n",
    "* There is long tail observed in the student grades, with a <a href=\"https://www.itl.nist.gov/div898/handbook/eda/section3/histogr7.htm\" target=\"_blank\">tail (skew) to the left</a>\n",
    "* There appear to be outliers in the `Time` taken variable, with some students taking an exceptionally short time.\n",
    "* The median grade seems to be between 70 and 75%, and matches the value in the ``describe()`` table.\n",
    "\n",
    "### Summary\n",
    "\n",
    "You should, from the above exercise see the value of a histogram. New terminology is ***highlighted***.\n",
    "\n",
    "<img src=\"images/general/Crystal_Clear_app_korganizer.png\" style=\"width: 100px ; float:right\"/>\n",
    "\n",
    "* Histograms are a graphic summary of the spread of a single variable. We sometimes use the word \"***distribution***\" instead of \"spread\". The word ***scale*** is also used by statisticians as well for this concept.\n",
    "* We get a good idea of the center of the data. Also called the ***location***.\n",
    "* We can, depending on the number of bins, detect if there are outliers.\n",
    "* It indicates if there is skew in the data; does the histogram have a tail to one side?\n",
    "* We also see how many 'humps' there are in the data. Is everything collected in one hump, or are there two humps (peaks). This <a href=\"https://www.itl.nist.gov/div898/handbook/eda/section3/eda33e4.htm\" target=\"_blank\">webpage</a> shows an example of distribution with two peaks."
   ]
  },
  {
   "cell_type": "markdown",
   "metadata": {},
   "source": [
    "#### ➜ Challenge yourself: Random walks\n",
    "\n",
    "Imagine a person walking. Every step forward also includes a small random amount to the left (negative values) or right (positive values).\n",
    "\n",
    "We can model these values with numbers from a normal distribution, which is centered at zero. If they were walking perfectly straight ahead, then viewed from the back, their position stays at zero if they walk in such a straight line.\n",
    "\n",
    "If they have had too much to drink, their steps might be biased a bit more. We can increase the standard deviation of the normal distribution to make the distribution wider."
   ]
  },
  {
   "cell_type": "code",
   "execution_count": 31,
   "metadata": {},
   "outputs": [
    {
     "name": "stdout",
     "output_type": "stream",
     "text": [
      "Regular walking: \n",
      "[ 3.36872552e+00 -1.13917806e+01  3.22569416e+00 -9.77637798e-01\n",
      "  4.08921191e+00  7.35784690e-01 -2.90071068e+00  3.75347963e+00\n",
      " -2.45082272e+00  7.49820386e+00 -4.93361234e+00  3.48327341e+00\n",
      "  1.13822432e-02 -6.85604873e+00 -8.68931720e+00 -3.41468947e-01\n",
      "  2.16465212e+00  6.57643141e-01 -7.34073427e-01 -1.33100624e-01]\n",
      "Someone who has consumed too much: \n",
      "[ 19.65502962   1.39951335  32.73139175   7.04282902  -3.19859331\n",
      " -20.33808233   9.63950154   5.80177213   0.9900464    1.92216785\n",
      " -20.843857   -18.43692294 -11.35410504   7.06983521   8.08637714\n",
      " -24.71550656   8.58118158   7.17017213  -7.92971946  16.67303932]\n"
     ]
    }
   ],
   "source": [
    "from scipy.stats import norm\n",
    "\n",
    "# 20 steps for a regular personn, showing the deviation to the \n",
    "# left (negative) or to the right (positive) when they are \n",
    "# walking straight. Values are in centimeters.\n",
    "regular_steps = norm.rvs(loc=0, scale=5, size = 20)\n",
    "print('Regular walking: \\n{}'.format(regular_steps))\n",
    "\n",
    "# Consumed too much? Standard deviation (scale) is larger:\n",
    "deviating_steps = norm.rvs(loc=0, scale=12, size = 20)\n",
    "print('Someone who has consumed too much: \\n{}'.format(deviating_steps))"
   ]
  },
  {
   "cell_type": "markdown",
   "metadata": {},
   "source": [
    "##### Questions\n",
    "\n",
    "1. Visualize the histogram of 1000 steps of someone who is walking *normally* 😃 \n",
    "2. Visualize, in a subplot, side-by-side, the histogram of someone who has consumed too much.\n",
    "\n",
    "Both histograms should be centered at zero. Give each histogram a title, and a label on the x-axis, including units of centimeters.\n",
    "\n",
    "***Hint*** To create a Pandas series of the values, remember [from worksheet 7](https://yint.org/pybasic07) that you can do that as follows:\n",
    "```python\n",
    "import pandas as pd\n",
    "steps = pd.Series(data = ...)\n",
    "```"
   ]
  },
  {
   "cell_type": "code",
   "execution_count": 43,
   "metadata": {},
   "outputs": [],
   "source": [
    "# Put your code here"
   ]
  },
  {
   "cell_type": "markdown",
   "metadata": {},
   "source": [
    "A person walking in random way has a cumulative effect. If they have deviated 30cm to the left, therefore they are at `-30`, and their next step is to sway to the right by 10cm, then they will be at `-20`. \n",
    "\n",
    "Modify your code to show the histogram of the cumulative sum of the deviations! You only need to make a very small modification to do this - thank you Pandas!"
   ]
  },
  {
   "cell_type": "markdown",
   "metadata": {},
   "source": [
    "#### ➜  Challenge yourself:  Can you see normal distributions using a histogram?\n",
    "\n",
    "Many statistical tools require the data to be normally distributed. \n",
    "\n",
    "Novices fall in the trap of plotting the histogram, and saying that it looks to be normally distributed, and then keep going with their next steps. There is a better way to test this,which is shown in [the next module](https://yint.org/pybasic10).\n",
    "\n",
    "But for now, try to run this code, to convince yourself that histograms are not a great tool to visualize if data are normally distributed. \n",
    "\n",
    "*** After years of experience, and working with data you will find your own approach. ***\n",
    "\n",
    "Here is my 6-step approach (it is not linear, but iterative): **Define**, **Get**, **Explore**, **Clean**, **Manipulate**, **Communicate**\n",
    "\n",
    "1. **Define**/clarify the *objective*. Write down exactly what you need to deliver to have the project/assignment considered as completed.\n",
    "\n",
    " Then your next steps become clear.\n",
    " \n",
    " \n",
    "\n",
    "2. Look for and **get** your data (or it will be given to you by a colleague). Since you have your objective clarified, it is clearer now which data, and how much data you need.\n",
    "\n",
    "3. Then start looking at the data. Are the data what we expect? This is the **explore** step. Use plots and table summaries.\n",
    "\n",
    "4. **Clean** up your data. This step and the prior step are iterative. As you explore your data you notice problems, bad data, you ask questions, you gain a bit of insight into the data. You clean, and re-explore, but always with the goal(s) in mind. Or perhaps you realize already this isn't the right data to reach your objective. You need other data, so you iterate.\n",
    "\n",
    "5. Modifying, making calculations from, and **manipulate** the data. This step is also called modeling, if you are building models, but sometimes you are simply summarizing your data to get the objective solved.\n",
    "\n",
    "6. From the data models and summaries and plots you start extracting the insights and conclusions you were looking for. Again, you can go back to any of the prior steps if you realize you need that to better achieve your goal(s). You **communicate** clear visualizations to your colleagues, with crisp, short text explanations that meet the objectives.\n",
    "\n",
    "___\n",
    "\n",
    "The above work flow (also called a '*pipeline*') is not new or unique to this course. Other people have written about similar approaches:\n",
    "\n",
    "* Garrett Grolemund and Hadley Wickham in their book on <a href=\"http://r4ds.had.co.nz/index.html\" target=\"_blank\">R for Data Science</a> have this diagram (from <a href=\"http://r4ds.had.co.nz/explore-intro.html\" target=\"_blank\">this part</a> of their book). It matches the above, with slightly different names for the steps. It misses, in my opinion, the most important step of ***defining your goal*** first.\n",
    "<img src=\"images/general/data-science-explore--Wickham-and-Grolemund-book.png\">\n",
    "\n",
    "___\n",
    "* Hilary Mason and Chris Wiggins in their article on <a href=\"http://www.dataists.com/2010/09/a-taxonomy-of-data-science/\" target=\"_blank\">A Taxonomy of Data Science</a> describe their 5 steps in detail:\n",
    " 1. **Obtain**: pointing and clicking does not scale. In other words, pointing and clicking in Excel, Minitab, or similar software is OK for small data/quick analysis, but does not scale to large data, nor repeated data analysis. \n",
    " 1. **Scrub**: the world is a messy place\n",
    " 1. **Explore**: you can see a lot by looking\n",
    " 1. **Models**: always bad, sometimes ugly\n",
    " 1. **Interpret**: \"the purpose of computing is insight, not numbers.\"\n",
    " \n",
    " You can read their article, as well as <a href=\"https://towardsdatascience.com/a-beginners-guide-to-the-data-science-pipeline-a4904b2d8ad3\" target=\"_blank\">this view on it</a>, which is bit more lighthearted.\n",
    " \n",
    "___\n",
    "\n",
    "What has been your approach so far?"
   ]
  },
  {
   "cell_type": "markdown",
   "metadata": {},
   "source": [
    ">***Feedback and comments about this worksheet?***\n",
    "> Please provide any anonymous [comments, feedback and tips](https://docs.google.com/forms/d/1Fpo0q7uGLcM6xcLRyp4qw1mZ0_igSUEnJV6ZGbpG4C4/edit)."
   ]
  },
  {
   "cell_type": "code",
   "execution_count": 11,
   "metadata": {},
   "outputs": [
    {
     "data": {
      "text/html": [
       "<!-- Credit to the BSD licensed code from:\n",
       "https://github.com/engineersCode/EngComp1_offtheground/blob/master/style/custom.css\n",
       "-->\n",
       "\n",
       "<link href=\"https://fonts.googleapis.com/css?family=Merriweather:300,300i,400,400i,700,700i,900,900i\" rel='stylesheet' >\n",
       "<link href=\"https://fonts.googleapis.com/css?family=Source+Sans+Pro:300,300i,400,400i,700,700i\" rel='stylesheet' >\n",
       "<link href='https://fonts.googleapis.com/css?family=Source+Code+Pro:300,400' rel='stylesheet' >\n",
       "<style>\n",
       "\n",
       "@font-face {\n",
       "    font-family: \"Computer Modern\";\n",
       "    src: url('http://mirrors.ctan.org/fonts/cm-unicode/fonts/otf/cmunss.otf');\n",
       "}\n",
       "\n",
       "\n",
       "#notebook_panel { /* main background */\n",
       "    background: rgb(245,245,245);\n",
       "}\n",
       "\n",
       "\n",
       "\n",
       "#notebook li { /* More space between bullet points */\n",
       "margin-top:0.5em;\n",
       "}\n",
       "\n",
       "/* draw border around running cells */\n",
       "div.cell.border-box-sizing.code_cell.running {\n",
       "    border: 1px solid #111;\n",
       "}\n",
       "\n",
       "/* Put a solid color box around each cell and its output, visually linking them*/\n",
       "div.cell.code_cell {\n",
       "    background-color: rgb(256,256,256);\n",
       "    border-radius: 0px;\n",
       "    padding: 0.5em;\n",
       "    margin-left:1em;\n",
       "    margin-top: 1em;\n",
       "}\n",
       "\n",
       "\n",
       "div.text_cell_render{\n",
       "    font-family: 'Source Sans Pro', sans-serif;\n",
       "    line-height: 140%;\n",
       "    font-size: 110%;\n",
       "\n",
       "/*   margin-left:auto;*/\n",
       "/*    margin-right:auto;*/\n",
       "}\n",
       "\n",
       ".table tr {\n",
       "    text-align:left;\n",
       "}\n",
       "\n",
       "/* Formatting for header cells */\n",
       ".text_cell_render h1 {\n",
       "    font-family: 'Merriweather', serif;\n",
       "    font-style:regular;\n",
       "    font-weight: bold;\n",
       "    font-size: 250%;\n",
       "    line-height: 100%;\n",
       "    color: #004065;\n",
       "    margin-bottom: 1em;\n",
       "    margin-top: 0.5em;\n",
       "    display: block;\n",
       "}\n",
       ".text_cell_render h2 {\n",
       "    font-family: 'Merriweather', serif;\n",
       "    font-weight: bold;\n",
       "    font-size: 180%;\n",
       "    line-height: 100%;\n",
       "    color: #0096d6;\n",
       "    margin-bottom: 0.5em;\n",
       "    margin-top: 0.5em;\n",
       "    display: block;\n",
       "}\n",
       "\n",
       ".text_cell_render h3 {\n",
       "    font-family: 'Merriweather', serif;\n",
       "    font-size: 150%;\n",
       "    margin-top:12px;\n",
       "    margin-bottom: 3px;\n",
       "    font-style: regular;\n",
       "    color: #008367;\n",
       "}\n",
       "\n",
       ".text_cell_render h4 {    /*Use this for captions*/\n",
       "    font-family: 'Merriweather', serif;\n",
       "    font-weight: bold;\n",
       "    font-size: 150%;\n",
       "    line-height: 120%;\n",
       "    text-align: left;\n",
       "    margin-top: 12px;\n",
       "    margin-bottom: 5px;\n",
       "    margin-left: 0pt;\n",
       "    font-style: regular;\n",
       "    color: #8B008B;\n",
       "}\n",
       "\n",
       ".text_cell_render h5 {  /*Use this for small titles*/\n",
       "    font-family: 'Source Sans Pro', sans-serif;\n",
       "    font-weight: regular;\n",
       "    font-size: 130%;\n",
       "    color: #e31937;\n",
       "    font-style: italic;\n",
       "    margin-bottom: .5em;\n",
       "    margin-top: 1em;\n",
       "    display: block;\n",
       "}\n",
       "\n",
       ".text_cell_render h6 { /*use this for copyright note*/\n",
       "    font-family: 'Source Code Pro', sans-serif;\n",
       "    font-weight: 300;\n",
       "    font-size: 9pt;\n",
       "    line-height: 100%;\n",
       "    color: grey;\n",
       "    margin-bottom: 1px;\n",
       "    margin-top: 1px;\n",
       "}\n",
       "\n",
       "    .CodeMirror{\n",
       "            font-family: \"Source Code Pro\";\n",
       "\t\t\tfont-size: 90%;\n",
       "    }\n",
       "/*    .prompt{\n",
       "        display: None;\n",
       "    }*/\n",
       "\n",
       "\n",
       "    .warning{\n",
       "        color: rgb( 240, 20, 20 )\n",
       "        }\n",
       "</style>\n",
       "<script>\n",
       "    MathJax.Hub.Config({\n",
       "                        TeX: {\n",
       "                           extensions: [\"AMSmath.js\"],\n",
       "                           equationNumbers: { autoNumber: \"AMS\", useLabelIds: true}\n",
       "                           },\n",
       "                tex2jax: {\n",
       "                    inlineMath: [ ['$','$'], [\"\\\\(\",\"\\\\)\"] ],\n",
       "                    displayMath: [ ['$$','$$'], [\"\\\\[\",\"\\\\]\"] ]\n",
       "                },\n",
       "                displayAlign: 'center', // Change this to 'center' to center equations.\n",
       "                \"HTML-CSS\": {\n",
       "                    styles: {'.MathJax_Display': {\"margin\": 4}}\n",
       "                }\n",
       "        });\n",
       "</script>\n"
      ],
      "text/plain": [
       "<IPython.core.display.HTML object>"
      ]
     },
     "execution_count": 11,
     "metadata": {},
     "output_type": "execute_result"
    }
   ],
   "source": [
    "# IGNORE this. Execute this cell to load the notebook's style sheet.\n",
    "from IPython.core.display import HTML\n",
    "css_file = './images/style.css'\n",
    "HTML(open(css_file, \"r\").read())"
   ]
  }
 ],
 "metadata": {
  "hide_input": false,
  "kernelspec": {
   "display_name": "Python [default]",
   "language": "python",
   "name": "python3"
  },
  "language_info": {
   "codemirror_mode": {
    "name": "ipython",
    "version": 3
   },
   "file_extension": ".py",
   "mimetype": "text/x-python",
   "name": "python",
   "nbconvert_exporter": "python",
   "pygments_lexer": "ipython3",
   "version": "3.5.5"
  },
  "toc": {
   "base_numbering": 1,
   "nav_menu": {},
   "number_sections": true,
   "sideBar": true,
   "skip_h1_title": true,
   "title_cell": "Table of Contents",
   "title_sidebar": "Contents",
   "toc_cell": true,
   "toc_position": {
    "height": "calc(100% - 180px)",
    "left": "10px",
    "top": "150px",
    "width": "221.984px"
   },
   "toc_section_display": true,
   "toc_window_display": true
  },
  "varInspector": {
   "cols": {
    "lenName": 16,
    "lenType": 16,
    "lenVar": 40
   },
   "kernels_config": {
    "python": {
     "delete_cmd_postfix": "",
     "delete_cmd_prefix": "del ",
     "library": "var_list.py",
     "varRefreshCmd": "print(var_dic_list())"
    },
    "r": {
     "delete_cmd_postfix": ") ",
     "delete_cmd_prefix": "rm(",
     "library": "var_list.r",
     "varRefreshCmd": "cat(var_dic_list()) "
    }
   },
   "types_to_exclude": [
    "module",
    "function",
    "builtin_function_or_method",
    "instance",
    "_Feature"
   ],
   "window_display": false
  }
 },
 "nbformat": 4,
 "nbformat_minor": 2
}
