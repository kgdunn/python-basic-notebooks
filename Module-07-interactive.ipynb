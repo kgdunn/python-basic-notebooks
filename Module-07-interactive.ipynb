{
 "cells": [
  {
   "cell_type": "markdown",
   "metadata": {
    "toc": true
   },
   "source": [
    "<h1>Table of Contents<span class=\"tocSkip\"></span></h1>\n",
    "<div class=\"toc\"><ul class=\"toc-item\"><li><span><a href=\"#Using-the-Pandas-library\" data-toc-modified-id=\"Using-the-Pandas-library-1\"><span class=\"toc-item-num\">1&nbsp;&nbsp;</span>Using the Pandas library</a></span></li><li><span><a href=\"#Using-a-Pandas-Series\" data-toc-modified-id=\"Using-a-Pandas-Series-2\"><span class=\"toc-item-num\">2&nbsp;&nbsp;</span>Using a Pandas Series</a></span></li></ul></div>"
   ]
  },
  {
   "cell_type": "markdown",
   "metadata": {},
   "source": [
    "\n"
   ]
  },
  {
   "cell_type": "markdown",
   "metadata": {},
   "source": [
    "<span style=\"align-items: center\">\n",
    "<img src=\"images/general/Crystal_Clear_app_restart.png\"        style=\"width: 70px ; float:left;   display: inline-block; vertical-align: bottom;\" /> \n",
    "<img src=\"images/general/Crystal_Clear_app_restart__right.png\" style=\"width: 70px ; float:right\"/> \n",
    "</span>\n",
    "\n"
   ]
  },
  {
   "cell_type": "markdown",
   "metadata": {},
   "source": [
    "\n",
    "\n",
    "\n",
    "> All content here is under a Creative Commons Attribution [CC-BY 4.0](https://creativecommons.org/licenses/by/4.0/) and all source code is released under a [BSD-2 clause license](https://en.wikipedia.org/wiki/BSD_licenses). Parts of these materials were inspired by https://github.com/engineersCode/EngComp/ (CC-BY 4.0), L.A. Barba, N.C. Clementi.\n",
    ">\n",
    ">Please reuse, remix, revise, and [reshare this content](https://github.com/kgdunn/python-basic-notebooks) in any way, keeping this notice."
   ]
  },
  {
   "cell_type": "markdown",
   "metadata": {},
   "source": [
    "### TODO\n",
    "\n",
    "* Sets  (maybe later)?\n",
    "\n",
    "* Copy by reference: show it by example \n",
    "\n",
    "* Read: CSV and Excel and MATLAB\n",
    "* Write: CSV and Excel (not MATLAB!)\n",
    "* Moving average example\n",
    "* Temperature and Cities example: now with Pandas\n",
    "* Combine columns: fridge simulation example\n",
    "* Plotting a simply series with Pandas\n",
    "* Average of the dice thrown tends to be normally\n",
    "* Regression in Pandas?\n",
    "* Mathematical summaries across various axes\n"
   ]
  },
  {
   "cell_type": "markdown",
   "metadata": {},
   "source": [
    "# Module 7: Overview \n",
    "\n",
    "In [module 5](https://yint.org/pybasic05) and [module 6](https://yint.org/pybasic06) you used NumPy to create arrays, and perform mathematical calculations on them. Even though module 6 was about Python functions in general, the applications were all with NumPy.\n",
    "\n",
    "Now we take a look at Pandas. This is the current best library for data manipulation. Along the way we will also learn about Jupyter notebooks. \n",
    "\n",
    "\n",
    "<img src=\"images/general/Crystal_Clear_action_db_commit.png\" style=\"width: 100px ; float:left\"/> <br><br> Once again, don't forget to use your version control system. Commit your work regularly, where ever you see this icon.\n",
    "\n",
    "<hr>\n",
    "\n",
    "### Preparing for this module###\n",
    "\n",
    "You should have \n",
    "1. Completed [worksheet 6](https://yint.org/pybasic06)\n",
    "2. Finish the short [project on DataCamp](https://projects.datacamp.com/projects/33) about Jupyter notebooks.\n",
    "\n",
    "<hr>"
   ]
  },
  {
   "cell_type": "code",
   "execution_count": null,
   "metadata": {},
   "outputs": [],
   "source": []
  },
  {
   "cell_type": "markdown",
   "metadata": {},
   "source": [
    "## Using the Pandas library\n",
    "\n",
    "Why use ``pandas`` if you already can use NumPy?\n",
    "\n",
    "* In NumPy you have arrays of data. Pandas adds column headings and row labels (indexes) and calls the result a ``DataFrame``. Think of a spreadsheet.\n",
    "* But much better than a spreadsheet, pandas can merge two tables together, to align data from different sources.\n",
    "* If the axis is time-based, it can be used taking advantage of that features: e.g. you can then average over a week, or a month. In other languages you have to manually program that, including taking into account that months sometimes have 28, 29, 30 or 31 days.\n",
    "* Data which are not time-based are equally well handled\n",
    "* If you do something on a dataframe, like calculate an average over all rows, then the result has the labels, the column headings in this case, kept in place.\n",
    "* Pandas takes care of missing data handling.\n",
    "* It has a database-type thinking, so in later modules, when we handle databases, it will not be an unfamiliar topic."
   ]
  },
  {
   "cell_type": "markdown",
   "metadata": {},
   "source": [
    "You can load the Pandas library, similar to how you load the NumPy library, with this command:\n",
    "\n",
    "```python\n",
    "import pandas as pd\n",
    "pd.__version__\n",
    "```\n",
    "\n",
    "Before we start with DataFrames, there is a simpler object in Pandas, called a ``Series``, the equivalent of a vector in NumPy.\n",
    "\n",
    "Let's see some characteristics of a ``Series``:\n",
    "```python\n",
    "# Create from a list. Put your own numbers here\n",
    "s = pd.Series([ ... ]) \n",
    "print(s)\n",
    "```\n",
    "Notice the indexes? Each row has a label:\n",
    "```python\n",
    ">>> s = pd.Series([ 5, 9, 1, -4, float('nan'), 5 ])\n",
    ">>> print(s)  \n",
    "0     5\n",
    "1     9\n",
    "2     1\n",
    "3    -4\n",
    "4   NaN\n",
    "5     5\n",
    "dtype: float64\n",
    "```\n",
    "The row labeling, if you do not provide is, will be automatically generated, to start at 0.\n",
    "\n",
    "What if you have labels?\n",
    "```python\n",
    "# You call the function with two inputs. One input is \n",
    "# mandatory (the first one), the other is optional.\n",
    "s = pd.Series([5, 9, 1, -4, float('nan'), 5 ], index=['a', 'b', 'c', 'd', 'e', 'f'])\n",
    "s.values\n",
    "type(s.values)\n",
    "```\n",
    "Ah ha! See what you get there? Pandas is built on top of the NumPy library. The underlying data are still stored as NumPy arrays, and you can access them with the `.values` attribute. This is partly why understanding NumPy first is helpful before using Pandas."
   ]
  },
  {
   "cell_type": "code",
   "execution_count": null,
   "metadata": {},
   "outputs": [],
   "source": []
  },
  {
   "cell_type": "markdown",
   "metadata": {},
   "source": [
    "## Using a Pandas Series\n",
    "\n",
    "### Mathematical calculations\n",
    "\n",
    "The series you created above, can be used in calculations. Notice how missing data are handled seamlessly.\n",
    "\n",
    "```python\n",
    "s = pd.Series([5, 9, 1, -4, float('nan'), 5 ], index=['a', 'b', 'c', 'd', 'e', 'f'])\n",
    "s * 5\n",
    "\n",
    "import numpy as np\n",
    "np.sqrt(s)\n",
    "```\n",
    "The last line shows that Pandas and NumPy are compatible with each other. You can call NumPy operations on a Pandas object, and the result is returned as a Pandas object to you, with the row labels (indexes).\n",
    "\n",
    "Also notice, that taking the square root of a negative number if not defined for real values, so the square root of $-4$ in row `d` returns a `NaN`.\n",
    "\n",
    "### Accessing entries\n",
    "\n",
    "Like in NumPy, you can access the data using the square brackets\n",
    "\n"
   ]
  },
  {
   "cell_type": "code",
   "execution_count": null,
   "metadata": {},
   "outputs": [],
   "source": []
  },
  {
   "cell_type": "code",
   "execution_count": null,
   "metadata": {},
   "outputs": [],
   "source": []
  },
  {
   "cell_type": "markdown",
   "metadata": {},
   "source": [
    "## Loading data: CSV files\n",
    "\n",
    "pd.read_csv('http://openmv.net/file/raw-material-height.csv')\n",
    "\n",
    "\n",
    "http://openmv.net/info/electricity-usage\n",
    " * Average electricity usage\n",
    " * Maximum\n",
    " * Minimum\n",
    " * Usage during off-peak, on-peak\n",
    " \n"
   ]
  },
  {
   "cell_type": "code",
   "execution_count": null,
   "metadata": {},
   "outputs": [],
   "source": []
  },
  {
   "cell_type": "markdown",
   "metadata": {},
   "source": [
    "## Challenges\n",
    "\n",
    "1. KNMI data loading\n",
    "2. Fridge simulation: return 4 columns\n"
   ]
  },
  {
   "cell_type": "code",
   "execution_count": null,
   "metadata": {},
   "outputs": [],
   "source": []
  },
  {
   "cell_type": "code",
   "execution_count": null,
   "metadata": {},
   "outputs": [],
   "source": []
  },
  {
   "cell_type": "code",
   "execution_count": null,
   "metadata": {},
   "outputs": [],
   "source": []
  },
  {
   "cell_type": "markdown",
   "metadata": {},
   "source": [
    "<img src=\"images/general/Crystal_Clear_action_db_commit.png\" style=\"width: 100px ; float:left\"/> <br><br>Wrap up this section by committing all your work. Have you used a good commit message? Push your work, to refer to later, but also as a backup."
   ]
  },
  {
   "cell_type": "markdown",
   "metadata": {},
   "source": [
    ">***Feedback and comments about this worksheet?***\n",
    "> Please provide any anonymous [comments, feedback and tips](https://docs.google.com/forms/d/1Fpo0q7uGLcM6xcLRyp4qw1mZ0_igSUEnJV6ZGbpG4C4/edit)."
   ]
  },
  {
   "cell_type": "code",
   "execution_count": 1,
   "metadata": {},
   "outputs": [
    {
     "data": {
      "text/html": [
       "<!-- Credit to the BSD licensed code from:\n",
       "https://github.com/engineersCode/EngComp1_offtheground/blob/master/style/custom.css\n",
       "-->\n",
       "\n",
       "<link href=\"https://fonts.googleapis.com/css?family=Merriweather:300,300i,400,400i,700,700i,900,900i\" rel='stylesheet' >\n",
       "<link href=\"https://fonts.googleapis.com/css?family=Source+Sans+Pro:300,300i,400,400i,700,700i\" rel='stylesheet' >\n",
       "<link href='https://fonts.googleapis.com/css?family=Source+Code+Pro:300,400' rel='stylesheet' >\n",
       "<style>\n",
       "\n",
       "@font-face {\n",
       "    font-family: \"Computer Modern\";\n",
       "    src: url('http://mirrors.ctan.org/fonts/cm-unicode/fonts/otf/cmunss.otf');\n",
       "}\n",
       "\n",
       "\n",
       "#notebook_panel { /* main background */\n",
       "    background: rgb(245,245,245);\n",
       "}\n",
       "\n",
       "\n",
       "\n",
       "#notebook li { /* More space between bullet points */\n",
       "margin-top:0.5em;\n",
       "}\n",
       "\n",
       "/* draw border around running cells */\n",
       "div.cell.border-box-sizing.code_cell.running {\n",
       "    border: 1px solid #111;\n",
       "}\n",
       "\n",
       "/* Put a solid color box around each cell and its output, visually linking them*/\n",
       "div.cell.code_cell {\n",
       "    background-color: rgb(256,256,256);\n",
       "    border-radius: 0px;\n",
       "    padding: 0.5em;\n",
       "    margin-left:1em;\n",
       "    margin-top: 1em;\n",
       "}\n",
       "\n",
       "\n",
       "div.text_cell_render{\n",
       "    font-family: 'Source Sans Pro', sans-serif;\n",
       "    line-height: 140%;\n",
       "    font-size: 110%;\n",
       "\n",
       "/*   margin-left:auto;*/\n",
       "/*    margin-right:auto;*/\n",
       "}\n",
       "\n",
       "/* Formatting for header cells */\n",
       ".text_cell_render h1 {\n",
       "    font-family: 'Merriweather', serif;\n",
       "    font-style:regular;\n",
       "    font-weight: bold;\n",
       "    font-size: 250%;\n",
       "    line-height: 100%;\n",
       "    color: #004065;\n",
       "    margin-bottom: 1em;\n",
       "    margin-top: 0.5em;\n",
       "    display: block;\n",
       "}\n",
       ".text_cell_render h2 {\n",
       "    font-family: 'Merriweather', serif;\n",
       "    font-weight: bold;\n",
       "    font-size: 180%;\n",
       "    line-height: 100%;\n",
       "    color: #0096d6;\n",
       "    margin-bottom: 0.5em;\n",
       "    margin-top: 0.5em;\n",
       "    display: block;\n",
       "}\n",
       "\n",
       ".text_cell_render h3 {\n",
       "    font-family: 'Merriweather', serif;\n",
       "\tfont-size: 150%;\n",
       "    margin-top:12px;\n",
       "    margin-bottom: 3px;\n",
       "    font-style: regular;\n",
       "    color: #008367;\n",
       "}\n",
       "\n",
       ".text_cell_render h4 {    /*Use this for captions*/\n",
       "    font-family: 'Merriweather', serif;\n",
       "    font-weight: 300;\n",
       "    font-size: 100%;\n",
       "    line-height: 120%;\n",
       "    text-align: left;\n",
       "    width:500px;\n",
       "    margin-top: 1em;\n",
       "    margin-bottom: 2em;\n",
       "    margin-left: 80pt;\n",
       "    font-style: regular;\n",
       "}\n",
       "\n",
       ".text_cell_render h5 {  /*Use this for small titles*/\n",
       "    font-family: 'Source Sans Pro', sans-serif;\n",
       "    font-weight: regular;\n",
       "    font-size: 130%;\n",
       "    color: #e31937;\n",
       "    font-style: italic;\n",
       "    margin-bottom: .5em;\n",
       "    margin-top: 1em;\n",
       "    display: block;\n",
       "}\n",
       "\n",
       ".text_cell_render h6 { /*use this for copyright note*/\n",
       "    font-family: 'Source Code Pro', sans-serif;\n",
       "    font-weight: 300;\n",
       "    font-size: 9pt;\n",
       "    line-height: 100%;\n",
       "    color: grey;\n",
       "    margin-bottom: 1px;\n",
       "    margin-top: 1px;\n",
       "}\n",
       "\n",
       "    .CodeMirror{\n",
       "            font-family: \"Source Code Pro\";\n",
       "\t\t\tfont-size: 90%;\n",
       "    }\n",
       "/*    .prompt{\n",
       "        display: None;\n",
       "    }*/\n",
       "\n",
       "\n",
       "    .warning{\n",
       "        color: rgb( 240, 20, 20 )\n",
       "        }\n",
       "</style>\n",
       "<script>\n",
       "    MathJax.Hub.Config({\n",
       "                        TeX: {\n",
       "                           extensions: [\"AMSmath.js\"],\n",
       "                           equationNumbers: { autoNumber: \"AMS\", useLabelIds: true}\n",
       "                           },\n",
       "                tex2jax: {\n",
       "                    inlineMath: [ ['$','$'], [\"\\\\(\",\"\\\\)\"] ],\n",
       "                    displayMath: [ ['$$','$$'], [\"\\\\[\",\"\\\\]\"] ]\n",
       "                },\n",
       "                displayAlign: 'center', // Change this to 'center' to center equations.\n",
       "                \"HTML-CSS\": {\n",
       "                    styles: {'.MathJax_Display': {\"margin\": 4}}\n",
       "                }\n",
       "        });\n",
       "</script>\n"
      ],
      "text/plain": [
       "<IPython.core.display.HTML object>"
      ]
     },
     "execution_count": 1,
     "metadata": {},
     "output_type": "execute_result"
    }
   ],
   "source": [
    "# IGNORE this. Execute this cell to load the notebook's style sheet.\n",
    "from IPython.core.display import HTML\n",
    "css_file = './images/style.css'\n",
    "HTML(open(css_file, \"r\").read())"
   ]
  },
  {
   "cell_type": "code",
   "execution_count": null,
   "metadata": {},
   "outputs": [],
   "source": []
  }
 ],
 "metadata": {
  "hide_input": false,
  "kernelspec": {
   "display_name": "Python [default]",
   "language": "python",
   "name": "python3"
  },
  "language_info": {
   "codemirror_mode": {
    "name": "ipython",
    "version": 3
   },
   "file_extension": ".py",
   "mimetype": "text/x-python",
   "name": "python",
   "nbconvert_exporter": "python",
   "pygments_lexer": "ipython3",
   "version": "3.5.5"
  },
  "toc": {
   "base_numbering": 1,
   "nav_menu": {},
   "number_sections": true,
   "sideBar": true,
   "skip_h1_title": true,
   "title_cell": "Table of Contents",
   "title_sidebar": "Contents",
   "toc_cell": true,
   "toc_position": {
    "height": "calc(100% - 180px)",
    "left": "10px",
    "top": "150px",
    "width": "222px"
   },
   "toc_section_display": true,
   "toc_window_display": true
  }
 },
 "nbformat": 4,
 "nbformat_minor": 2
}
